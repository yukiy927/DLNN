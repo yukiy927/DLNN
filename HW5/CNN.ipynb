{
 "cells": [
  {
   "cell_type": "markdown",
   "metadata": {},
   "source": [
    "# Convolutional neural networks\n",
    "\n",
    "In this notebook, we'll put together our convolutional layers to implement a 3-layer CNN.  Then, we'll ask you to implement a CNN that can achieve > 65% validation error on CIFAR-10.\n",
    "\n",
    "If you have not completed the Spatial BatchNorm Notebook, please see the following description from that notebook:\n",
    "\n",
    "Please copy and paste your prior implemented code from HW #4 to start this assignment.  If you did not correctly implement the layers in HW #4, you may collaborate with a classmate to use their layer implementations from HW #4.  You may also visit TA or Prof OH to correct your implementation.  \n",
    "\n",
    "You'll want to copy and paste from HW #4:\n",
    "    - layers.py for your FC network layers, as well as batchnorm and dropout.\n",
    "    - layer_utils.py for your combined FC network layers.\n",
    "    - optim.py for your optimizers.\n",
    "\n",
    "Be sure to place these in the `nndl/` directory so they're imported correctly.  Note, as announced in class, we will not be releasing our solutions."
   ]
  },
  {
   "cell_type": "code",
   "execution_count": 2,
   "metadata": {},
   "outputs": [],
   "source": [
    "# As usual, a bit of setup\n",
    "\n",
    "import numpy as np\n",
    "import matplotlib.pyplot as plt\n",
    "from nndl.cnn import *\n",
    "from utils.data_utils import get_CIFAR10_data\n",
    "from utils.gradient_check import eval_numerical_gradient_array, eval_numerical_gradient\n",
    "from nndl.layers import *\n",
    "from nndl.conv_layers import *\n",
    "from utils.fast_layers import *\n",
    "from utils.solver import Solver\n",
    "\n",
    "%matplotlib inline\n",
    "plt.rcParams['figure.figsize'] = (10.0, 8.0) # set default size of plots\n",
    "plt.rcParams['image.interpolation'] = 'nearest'\n",
    "plt.rcParams['image.cmap'] = 'gray'\n",
    "\n",
    "# for auto-reloading external modules\n",
    "# see http://stackoverflow.com/questions/1907993/autoreload-of-modules-in-ipython\n",
    "%load_ext autoreload\n",
    "%autoreload 2\n",
    "\n",
    "def rel_error(x, y):\n",
    "  \"\"\" returns relative error \"\"\"\n",
    "  return np.max(np.abs(x - y) / (np.maximum(1e-8, np.abs(x) + np.abs(y))))"
   ]
  },
  {
   "cell_type": "code",
   "execution_count": 3,
   "metadata": {},
   "outputs": [
    {
     "name": "stdout",
     "output_type": "stream",
     "text": [
      "X_train: (49000, 3, 32, 32) \n",
      "y_train: (49000,) \n",
      "X_val: (1000, 3, 32, 32) \n",
      "y_val: (1000,) \n",
      "X_test: (1000, 3, 32, 32) \n",
      "y_test: (1000,) \n"
     ]
    }
   ],
   "source": [
    "# Load the (preprocessed) CIFAR10 data.\n",
    "\n",
    "data = get_CIFAR10_data()\n",
    "for k in data.keys():\n",
    "  print('{}: {} '.format(k, data[k].shape))"
   ]
  },
  {
   "cell_type": "markdown",
   "metadata": {},
   "source": [
    "## Three layer CNN\n",
    "\n",
    "In this notebook, you will implement a three layer CNN.  The `ThreeLayerConvNet` class is in `nndl/cnn.py`.  You'll need to modify that code for this section, including the initialization, as well as the calculation of the loss and gradients.  You should be able to use the building blocks you have either earlier coded or that we have provided.  Be sure to use the fast layers.\n",
    "\n",
    "The architecture of this CNN will be:\n",
    "\n",
    "conv - relu - 2x2 max pool - affine - relu - affine - softmax\n",
    "\n",
    "We won't use batchnorm yet.  You've also done enough of these to know how to debug; use the cells below.\n",
    "\n",
    "Note: As we are implementing several layers CNN networks. The gradient error can be expected for the `eval_numerical_gradient()` function. If your `W1 max relative error` and `W2 max relative error` are around or below 0.01, they should be acceptable. Other errors should be less than 1e-5. "
   ]
  },
  {
   "cell_type": "code",
   "execution_count": 7,
   "metadata": {},
   "outputs": [
    {
     "name": "stdout",
     "output_type": "stream",
     "text": [
      "W1 max relative error: 0.0006094258538732\n",
      "W2 max relative error: 0.009201364184744614\n",
      "W3 max relative error: 5.3797948123430495e-05\n",
      "b1 max relative error: 0.00012802410900622028\n",
      "b2 max relative error: 5.866187715565992e-07\n",
      "b3 max relative error: 1.0939271255122129e-09\n"
     ]
    }
   ],
   "source": [
    "num_inputs = 2\n",
    "input_dim = (3, 16, 16)\n",
    "reg = 0.0\n",
    "num_classes = 10\n",
    "X = np.random.randn(num_inputs, *input_dim)\n",
    "y = np.random.randint(num_classes, size=num_inputs)\n",
    "\n",
    "model = ThreeLayerConvNet(num_filters=3, filter_size=3,\n",
    "                          input_dim=input_dim, hidden_dim=7,\n",
    "                          dtype=np.float64)\n",
    "loss, grads = model.loss(X, y)\n",
    "for param_name in sorted(grads):\n",
    "    f = lambda _: model.loss(X, y)[0]\n",
    "    param_grad_num = eval_numerical_gradient(f, model.params[param_name], verbose=False, h=1e-6)\n",
    "    e = rel_error(param_grad_num, grads[param_name])\n",
    "    print('{} max relative error: {}'.format(param_name, rel_error(param_grad_num, grads[param_name])))"
   ]
  },
  {
   "cell_type": "markdown",
   "metadata": {},
   "source": [
    "### Overfit small dataset\n",
    "\n",
    "To check your CNN implementation, let's overfit a small dataset."
   ]
  },
  {
   "cell_type": "code",
   "execution_count": 8,
   "metadata": {},
   "outputs": [
    {
     "name": "stdout",
     "output_type": "stream",
     "text": [
      "(Iteration 1 / 20) loss: 2.423113\n",
      "(Epoch 0 / 10) train acc: 0.200000; val_acc: 0.087000\n",
      "(Iteration 2 / 20) loss: 3.061131\n",
      "(Epoch 1 / 10) train acc: 0.200000; val_acc: 0.129000\n",
      "(Iteration 3 / 20) loss: 3.490348\n",
      "(Iteration 4 / 20) loss: 2.196639\n",
      "(Epoch 2 / 10) train acc: 0.180000; val_acc: 0.083000\n",
      "(Iteration 5 / 20) loss: 2.293624\n",
      "(Iteration 6 / 20) loss: 2.251857\n",
      "(Epoch 3 / 10) train acc: 0.310000; val_acc: 0.119000\n",
      "(Iteration 7 / 20) loss: 1.739191\n",
      "(Iteration 8 / 20) loss: 1.870735\n",
      "(Epoch 4 / 10) train acc: 0.410000; val_acc: 0.158000\n",
      "(Iteration 9 / 20) loss: 1.586171\n",
      "(Iteration 10 / 20) loss: 1.443942\n",
      "(Epoch 5 / 10) train acc: 0.460000; val_acc: 0.190000\n",
      "(Iteration 11 / 20) loss: 1.683167\n",
      "(Iteration 12 / 20) loss: 1.485928\n",
      "(Epoch 6 / 10) train acc: 0.640000; val_acc: 0.223000\n",
      "(Iteration 13 / 20) loss: 1.219546\n",
      "(Iteration 14 / 20) loss: 0.997966\n",
      "(Epoch 7 / 10) train acc: 0.690000; val_acc: 0.231000\n",
      "(Iteration 15 / 20) loss: 0.968408\n",
      "(Iteration 16 / 20) loss: 1.331646\n",
      "(Epoch 8 / 10) train acc: 0.740000; val_acc: 0.214000\n",
      "(Iteration 17 / 20) loss: 0.852519\n",
      "(Iteration 18 / 20) loss: 0.682172\n",
      "(Epoch 9 / 10) train acc: 0.760000; val_acc: 0.217000\n",
      "(Iteration 19 / 20) loss: 0.605153\n",
      "(Iteration 20 / 20) loss: 0.563674\n",
      "(Epoch 10 / 10) train acc: 0.850000; val_acc: 0.243000\n"
     ]
    }
   ],
   "source": [
    "num_train = 100\n",
    "small_data = {\n",
    "  'X_train': data['X_train'][:num_train],\n",
    "  'y_train': data['y_train'][:num_train],\n",
    "  'X_val': data['X_val'],\n",
    "  'y_val': data['y_val'],\n",
    "}\n",
    "\n",
    "model = ThreeLayerConvNet(weight_scale=1e-2)\n",
    "\n",
    "solver = Solver(model, small_data,\n",
    "                num_epochs=10, batch_size=50,\n",
    "                update_rule='adam',\n",
    "                optim_config={\n",
    "                  'learning_rate': 1e-3,\n",
    "                },\n",
    "                verbose=True, print_every=1)\n",
    "solver.train()"
   ]
  },
  {
   "cell_type": "code",
   "execution_count": 9,
   "metadata": {},
   "outputs": [
    {
     "data": {
      "image/png": "[encoded data removed]",
      "text/plain": [
       "<Figure size 1000x800 with 2 Axes>"
      ]
     },
     "metadata": {},
     "output_type": "display_data"
    }
   ],
   "source": [
    "plt.subplot(2, 1, 1)\n",
    "plt.plot(solver.loss_history, 'o')\n",
    "plt.xlabel('iteration')\n",
    "plt.ylabel('loss')\n",
    "\n",
    "plt.subplot(2, 1, 2)\n",
    "plt.plot(solver.train_acc_history, '-o')\n",
    "plt.plot(solver.val_acc_history, '-o')\n",
    "plt.legend(['train', 'val'], loc='upper left')\n",
    "plt.xlabel('epoch')\n",
    "plt.ylabel('accuracy')\n",
    "plt.show()"
   ]
  },
  {
   "cell_type": "markdown",
   "metadata": {},
   "source": [
    "## Train the network\n",
    "\n",
    "Now we train the 3 layer CNN on CIFAR-10 and assess its accuracy."
   ]
  },
  {
   "cell_type": "code",
   "execution_count": 29,
   "metadata": {
    "scrolled": false
   },
   "outputs": [
    {
     "name": "stdout",
     "output_type": "stream",
     "text": [
      "(Iteration 1 / 980) loss: 2.304898\n",
      "(Epoch 0 / 1) train acc: 0.098000; val_acc: 0.105000\n",
      "(Iteration 21 / 980) loss: 2.306590\n",
      "(Iteration 41 / 980) loss: 2.122253\n",
      "(Iteration 61 / 980) loss: 2.065290\n",
      "(Iteration 81 / 980) loss: 1.874842\n",
      "(Iteration 101 / 980) loss: 1.859741\n",
      "(Iteration 121 / 980) loss: 1.896406\n",
      "(Iteration 141 / 980) loss: 1.800976\n",
      "(Iteration 161 / 980) loss: 1.413882\n",
      "(Iteration 181 / 980) loss: 1.692141\n",
      "(Iteration 201 / 980) loss: 1.728481\n",
      "(Iteration 221 / 980) loss: 1.880173\n",
      "(Iteration 241 / 980) loss: 1.756738\n",
      "(Iteration 261 / 980) loss: 1.603629\n",
      "(Iteration 281 / 980) loss: 1.482682\n",
      "(Iteration 301 / 980) loss: 2.008390\n",
      "(Iteration 321 / 980) loss: 1.868477\n",
      "(Iteration 341 / 980) loss: 1.591051\n",
      "(Iteration 361 / 980) loss: 1.445630\n",
      "(Iteration 381 / 980) loss: 2.053232\n",
      "(Iteration 401 / 980) loss: 1.812173\n",
      "(Iteration 421 / 980) loss: 1.551186\n",
      "(Iteration 441 / 980) loss: 1.589527\n",
      "(Iteration 461 / 980) loss: 1.778691\n",
      "(Iteration 481 / 980) loss: 1.738288\n",
      "(Iteration 501 / 980) loss: 1.648886\n",
      "(Iteration 521 / 980) loss: 1.423175\n",
      "(Iteration 541 / 980) loss: 1.760700\n",
      "(Iteration 561 / 980) loss: 1.439778\n",
      "(Iteration 581 / 980) loss: 1.474790\n",
      "(Iteration 601 / 980) loss: 1.558894\n",
      "(Iteration 621 / 980) loss: 1.738130\n",
      "(Iteration 641 / 980) loss: 1.709900\n",
      "(Iteration 661 / 980) loss: 1.849811\n",
      "(Iteration 681 / 980) loss: 1.674680\n",
      "(Iteration 701 / 980) loss: 1.524153\n",
      "(Iteration 721 / 980) loss: 1.477730\n",
      "(Iteration 741 / 980) loss: 1.472883\n",
      "(Iteration 761 / 980) loss: 1.796025\n",
      "(Iteration 781 / 980) loss: 1.277948\n",
      "(Iteration 801 / 980) loss: 1.324931\n",
      "(Iteration 821 / 980) loss: 1.384334\n",
      "(Iteration 841 / 980) loss: 1.571489\n",
      "(Iteration 861 / 980) loss: 1.764089\n",
      "(Iteration 881 / 980) loss: 1.501519\n",
      "(Iteration 901 / 980) loss: 1.302541\n",
      "(Iteration 921 / 980) loss: 1.663343\n",
      "(Iteration 941 / 980) loss: 1.488929\n",
      "(Iteration 961 / 980) loss: 1.480786\n",
      "(Epoch 1 / 1) train acc: 0.473000; val_acc: 0.461000\n"
     ]
    }
   ],
   "source": [
    "model = ThreeLayerConvNet(weight_scale=0.001, hidden_dim=500, reg=0.001)\n",
    "\n",
    "solver = Solver(model, data,\n",
    "                num_epochs=1, batch_size=50,\n",
    "                update_rule='adam',\n",
    "                optim_config={\n",
    "                  'learning_rate': 1e-3,\n",
    "                },\n",
    "                verbose=True, print_every=20)\n",
    "solver.train()"
   ]
  },
  {
   "cell_type": "markdown",
   "metadata": {},
   "source": [
    "# Get > 65% validation accuracy on CIFAR-10.\n",
    "\n",
    "In the last part of the assignment, we'll now ask you to train a CNN to get better than 65% validation accuracy on CIFAR-10.\n",
    "\n",
    "### Things you should try:\n",
    "- Filter size: Above we used 7x7; but VGGNet and onwards showed stacks of 3x3 filters are good.  \n",
    "- Number of filters: Above we used 32 filters. Do more or fewer do better?\n",
    "- Batch normalization: Try adding spatial batch normalization after convolution layers and vanilla batch normalization after affine layers. Do your networks train faster?\n",
    "- Network architecture: Can a deeper CNN do better?  Consider these architectures:\n",
    "    - [conv-relu-pool]xN - conv - relu - [affine]xM - [softmax or SVM]\n",
    "    - [conv-relu-pool]XN - [affine]XM - [softmax or SVM]\n",
    "    - [conv-relu-conv-relu-pool]xN - [affine]xM - [softmax or SVM]\n",
    "\n",
    "### Tips for training\n",
    "For each network architecture that you try, you should tune the learning rate and regularization strength. When doing this there are a couple important things to keep in mind:\n",
    "\n",
    "- If the parameters are working well, you should see improvement within a few hundred iterations\n",
    "- Remember the coarse-to-fine approach for hyperparameter tuning: start by testing a large range of hyperparameters for just a few training iterations to find the combinations of parameters that are working at all.\n",
    "- Once you have found some sets of parameters that seem to work, search more finely around these parameters. You may need to train for more epochs."
   ]
  },
  {
   "cell_type": "code",
   "execution_count": 4,
   "metadata": {
    "scrolled": false
   },
   "outputs": [
    {
     "name": "stdout",
     "output_type": "stream",
     "text": [
      "(Iteration 1 / 7640) loss: 2.319392\n",
      "(Epoch 0 / 20) train acc: 0.099000; val_acc: 0.116000\n",
      "(Iteration 201 / 7640) loss: 1.495106\n",
      "(Epoch 1 / 20) train acc: 0.574000; val_acc: 0.537000\n",
      "(Iteration 401 / 7640) loss: 1.454769\n",
      "(Iteration 601 / 7640) loss: 1.307397\n",
      "(Epoch 2 / 20) train acc: 0.698000; val_acc: 0.617000\n",
      "(Iteration 801 / 7640) loss: 1.044520\n",
      "(Iteration 1001 / 7640) loss: 1.129256\n",
      "(Epoch 3 / 20) train acc: 0.700000; val_acc: 0.630000\n",
      "(Iteration 1201 / 7640) loss: 0.934934\n",
      "(Iteration 1401 / 7640) loss: 1.003923\n",
      "(Epoch 4 / 20) train acc: 0.726000; val_acc: 0.635000\n",
      "(Iteration 1601 / 7640) loss: 0.884104\n",
      "(Iteration 1801 / 7640) loss: 1.065857\n",
      "(Epoch 5 / 20) train acc: 0.719000; val_acc: 0.643000\n",
      "(Iteration 2001 / 7640) loss: 0.949058\n",
      "(Iteration 2201 / 7640) loss: 0.897725\n",
      "(Epoch 6 / 20) train acc: 0.753000; val_acc: 0.634000\n",
      "(Iteration 2401 / 7640) loss: 0.833849\n",
      "(Iteration 2601 / 7640) loss: 1.036367\n",
      "(Epoch 7 / 20) train acc: 0.788000; val_acc: 0.652000\n",
      "(Iteration 2801 / 7640) loss: 0.778483\n",
      "(Iteration 3001 / 7640) loss: 1.005891\n",
      "(Epoch 8 / 20) train acc: 0.791000; val_acc: 0.666000\n",
      "(Iteration 3201 / 7640) loss: 0.786779\n",
      "(Iteration 3401 / 7640) loss: 0.696741\n",
      "(Epoch 9 / 20) train acc: 0.803000; val_acc: 0.648000\n",
      "(Iteration 3601 / 7640) loss: 0.666552\n",
      "(Iteration 3801 / 7640) loss: 0.703873\n",
      "(Epoch 10 / 20) train acc: 0.816000; val_acc: 0.649000\n",
      "(Iteration 4001 / 7640) loss: 0.708686\n",
      "(Iteration 4201 / 7640) loss: 0.700648\n",
      "(Epoch 11 / 20) train acc: 0.785000; val_acc: 0.638000\n",
      "(Iteration 4401 / 7640) loss: 0.695801\n",
      "(Epoch 12 / 20) train acc: 0.835000; val_acc: 0.662000\n",
      "(Iteration 4601 / 7640) loss: 0.729919\n",
      "(Iteration 4801 / 7640) loss: 0.897520\n",
      "(Epoch 13 / 20) train acc: 0.865000; val_acc: 0.675000\n",
      "(Iteration 5001 / 7640) loss: 0.558923\n",
      "(Iteration 5201 / 7640) loss: 0.759825\n",
      "(Epoch 14 / 20) train acc: 0.850000; val_acc: 0.674000\n",
      "(Iteration 5401 / 7640) loss: 0.802388\n",
      "(Iteration 5601 / 7640) loss: 0.646562\n",
      "(Epoch 15 / 20) train acc: 0.847000; val_acc: 0.666000\n",
      "(Iteration 5801 / 7640) loss: 0.768842\n",
      "(Iteration 6001 / 7640) loss: 0.652471\n",
      "(Epoch 16 / 20) train acc: 0.891000; val_acc: 0.690000\n",
      "(Iteration 6201 / 7640) loss: 0.588554\n",
      "(Iteration 6401 / 7640) loss: 0.744329\n",
      "(Epoch 17 / 20) train acc: 0.878000; val_acc: 0.659000\n",
      "(Iteration 6601 / 7640) loss: 0.478664\n",
      "(Iteration 6801 / 7640) loss: 0.592016\n",
      "(Epoch 18 / 20) train acc: 0.866000; val_acc: 0.649000\n",
      "(Iteration 7001 / 7640) loss: 0.757605\n",
      "(Iteration 7201 / 7640) loss: 0.485550\n",
      "(Epoch 19 / 20) train acc: 0.885000; val_acc: 0.649000\n",
      "(Iteration 7401 / 7640) loss: 0.522587\n",
      "(Iteration 7601 / 7640) loss: 0.484539\n",
      "(Epoch 20 / 20) train acc: 0.892000; val_acc: 0.678000\n"
     ]
    }
   ],
   "source": [
    "# ================================================================ #\n",
    "# YOUR CODE HERE:\n",
    "#   Implement a CNN to achieve greater than 65% validation accuracy\n",
    "#   on CIFAR-10.\n",
    "# ================================================================ #\n",
    "\n",
    "# Train the Network\n",
    "model = ThreeLayerConvNet(num_filters=128,    #num filters to be larger or smaller?\n",
    "                         filter_size=3,      #num of filter size to be three based on VGG\n",
    "                         weight_scale=0.001,\n",
    "                         hidden_dim=1024,\n",
    "                         reg=0.001)\n",
    "\n",
    "    \n",
    "\n",
    "#model = ThreeLayerConvNet(weight_scale=0.001, hidden_dim=500, reg=0.001)\n",
    "\n",
    "solver = Solver(model, data,\n",
    "                num_epochs=20, batch_size=128,\n",
    "                update_rule='adam',\n",
    "                optim_config={\n",
    "                  'learning_rate': 5e-4,\n",
    "                },\n",
    "                verbose=True, print_every=200)\n",
    "solver.train()\n",
    "\n",
    "# ================================================================ #\n",
    "# END YOUR CODE HERE\n",
    "# ================================================================ #\n"
   ]
  }
 ],
 "metadata": {
  "kernelspec": {
   "display_name": "Python 3 (ipykernel)",
   "language": "python",
   "name": "python3"
  },
  "language_info": {
   "codemirror_mode": {
    "name": "ipython",
    "version": 3
   },
   "file_extension": ".py",
   "mimetype": "text/x-python",
   "name": "python",
   "nbconvert_exporter": "python",
   "pygments_lexer": "ipython3",
   "version": "3.9.13"
  },
  "pycharm": {
   "stem_cell": {
    "cell_type": "raw",
    "metadata": {
     "collapsed": false
    },
    "source": []
   }
  }
 },
 "nbformat": 4,
 "nbformat_minor": 2
}
