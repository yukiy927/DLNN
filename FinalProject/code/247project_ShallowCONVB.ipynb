{
  "nbformat": 4,
  "nbformat_minor": 0,
  "metadata": {
    "colab": {
      "private_outputs": true,
      "provenance": []
    },
    "kernelspec": {
      "name": "python3",
      "display_name": "Python 3"
    },
    "language_info": {
      "name": "python"
    },
    "gpuClass": "standard",
    "accelerator": "GPU"
  },
  "cells": [
    {
      "cell_type": "code",
      "execution_count": null,
      "metadata": {
        "id": "Koqa3G7MnGx2"
      },
      "outputs": [],
      "source": [
        "import sys\n",
        "print(f'Using python version {sys.version}') # get python version"
      ]
    },
    {
      "cell_type": "code",
      "source": [
        "from google.colab import drive\n",
        "drive.mount('/content/drive')\n",
        "%cd '/content/drive/MyDrive/247_project_data'"
      ],
      "metadata": {
        "id": "6bGAej-ncX5T"
      },
      "execution_count": null,
      "outputs": []
    },
    {
      "cell_type": "code",
      "source": [
        "import numpy as np\n",
        "import matplotlib.pyplot as plt\n",
        "import random\n",
        "\n",
        "import torch\n",
        "import torch.nn as nn\n",
        "import torch.nn.functional as F\n",
        "\n",
        "print(f'Using pytorch version {torch.__version__}')"
      ],
      "metadata": {
        "id": "llwcRI7Ywekx"
      },
      "execution_count": null,
      "outputs": []
    },
    {
      "cell_type": "code",
      "source": [
        "print(torch.cuda.is_available())\n",
        "device_id = 0 if torch.cuda.is_available() else 'cpu' # Equivalent to device_id = 'cuda:0'\n",
        "device = torch.device(device_id) # use these semantics to specify a specific device. "
      ],
      "metadata": {
        "id": "Jf613vO44RZj"
      },
      "execution_count": null,
      "outputs": []
    },
    {
      "cell_type": "markdown",
      "source": [
        "## Prepare the data"
      ],
      "metadata": {
        "id": "o-Qw14P3xWQG"
      }
    },
    {
      "cell_type": "code",
      "source": [
        "X_test = np.load(\"X_test.npy\")\n",
        "y_test = np.load(\"y_test.npy\")\n",
        "person_train_valid = np.load(\"person_train_valid.npy\")\n",
        "X_train_valid = np.load(\"X_train_valid.npy\")\n",
        "y_train_valid = np.load(\"y_train_valid.npy\")\n",
        "person_test = np.load(\"person_test.npy\")\n",
        "\n",
        "print ('Training/Valid data shape: {}'.format(X_train_valid.shape))\n",
        "print ('Test data shape: {}'.format(X_test.shape))\n",
        "print ('Training/Valid target shape: {}'.format(y_train_valid.shape))\n",
        "print ('Test target shape: {}'.format(y_test.shape))\n",
        "print ('Person train/valid shape: {}'.format(person_train_valid.shape))\n",
        "print ('Person test shape: {}'.format(person_test.shape))"
      ],
      "metadata": {
        "id": "61umg_9yxgoc"
      },
      "execution_count": null,
      "outputs": []
    },
    {
      "cell_type": "code",
      "source": [
        "X_train_valid[0]"
      ],
      "metadata": {
        "id": "64wrNOp5D3Ox"
      },
      "execution_count": null,
      "outputs": []
    },
    {
      "cell_type": "code",
      "source": [
        "# Convert to 0-4 labeling and integer type (integers needed for categorical labels)\n",
        "y_train_valid = (y_train_valid - np.min(y_train_valid)).astype('int')\n",
        "y_test = (y_test - np.min(y_test)).astype('int')"
      ],
      "metadata": {
        "id": "ckbx8Soz0E8c"
      },
      "execution_count": null,
      "outputs": []
    },
    {
      "cell_type": "code",
      "source": [
        "#Find the subject 1\n",
        "Subject1_train_index = np.count_nonzero(person_train_valid == 0)\n",
        "Subject1_test_index = np.count_nonzero(person_test == 0)\n",
        "Sub1_train_X = X_train_valid[0:Subject1_train_index]\n",
        "Sub1_train_y = y_train_valid[0:Subject1_train_index]\n",
        "Sub1_test_X = X_test[0:Subject1_test_index]\n",
        "Sub1_test_y = y_test[0:Subject1_test_index]\n",
        "print('Sub1_train_X:',Sub1_train_X.shape)\n",
        "print('Sub1_train_y:',Sub1_train_y.shape)\n",
        "print('Sub1_test_X:',Sub1_test_X.shape)\n",
        "print('Sub1_test_y:',Sub1_test_y.shape)"
      ],
      "metadata": {
        "id": "ynZkmj2m0Qg-"
      },
      "execution_count": null,
      "outputs": []
    },
    {
      "cell_type": "markdown",
      "source": [
        "## Build the CNN"
      ],
      "metadata": {
        "id": "5JBV6Soy5k88"
      }
    },
    {
      "cell_type": "code",
      "source": [
        "# inherits from nn.Module\n",
        "class DeepConvNet(nn.Module):\n",
        "    def __init__(self, input_shape=(22, 1000), n_temporal_filters=40, n_spatial_filters=40, n_classes=4):\n",
        "        super().__init__() # call __init__ method of superclass\n",
        "        \n",
        "        self.conv1 = nn.Conv2d(1, 25, kernel_size=(1,10), stride=1, padding=0)\n",
        "        self.conv2 = nn.Conv2d(25, 25, kernel_size=(22,1), stride=1, padding=0)\n",
        "        self.maxpool1 = nn.MaxPool2d(kernel_size=(1,3), stride=3)\n",
        "        self.conv3 = nn.Conv2d(25, 50, kernel_size=(1,10), stride=1, padding=0)\n",
        "        self.maxpool2 = nn.MaxPool2d(kernel_size=(1,3), stride=3)\n",
        "        self.conv4 = nn.Conv2d(50, 100, kernel_size=(1,10), stride=1, padding=0)\n",
        "        self.maxpool3 = nn.MaxPool2d(kernel_size=(1,3), stride=3)\n",
        "        self.conv5 = nn.Conv2d(100, 200, kernel_size=(1,10), stride=1, padding=0)\n",
        "        self.maxpool4 = nn.MaxPool2d(kernel_size=(1,3), stride=3)\n",
        "        self.dense = nn.LazyLinear(n_classes)\n",
        "        return\n",
        "    \n",
        "    # declaring a forward method also makes the instance a callable.\n",
        "    # e.g.:\n",
        "    # model = ShallowConvNet()\n",
        "    # out = model(x)\n",
        "    def forward(self, x):\n",
        "      x = x.view(-1, 1, 22, 1000)\n",
        "      #x = F.normalize(x)\n",
        "      x = F.elu(self.conv1(x))\n",
        "      x = F.elu(self.conv2(x))\n",
        "      x = self.maxpool1(x)\n",
        "      x = F.elu(self.conv3(x))\n",
        "      x = self.maxpool2(x)\n",
        "      x = F.elu(self.conv4(x))\n",
        "      x = self.maxpool3(x)\n",
        "      x = F.elu(self.conv5(x))\n",
        "      x = self.maxpool4(x)\n",
        "      x = x.view(x.shape[0], -1)\n",
        "      x = self.dense(x)\n",
        "      return x\n",
        "       "
      ],
      "metadata": {
        "id": "g0w1Lc2m5qNi"
      },
      "execution_count": null,
      "outputs": []
    },
    {
      "cell_type": "code",
      "source": [
        "class ShallowConvNet(nn.Module):\n",
        "    def __init__(self, input_shape=(22, 1000), n_temporal_filters=40, n_spatial_filters=40, n_classes=4, use_BN = False):\n",
        "        super().__init__()\n",
        "        \n",
        "        self.input_shape = input_shape\n",
        "        self.n_temporal_filters = n_temporal_filters\n",
        "        self.n_spatial_filters = n_spatial_filters\n",
        "        self.n_classes = n_classes\n",
        "        self.use_BN = use_BN\n",
        "\n",
        "        self.temporal_convolution = nn.Conv2d(1, n_temporal_filters, (1, 25))\n",
        "        self.spatial_convolution = nn.Conv2d(n_temporal_filters, n_spatial_filters, (input_shape[0], 1))\n",
        "        self.average_pool = nn.AvgPool2d((1, 75), stride=(1, 15))\n",
        "        self.BN_temporal = nn.BatchNorm2d(num_features = n_temporal_filters)\n",
        "        self.BN_spatial = nn.BatchNorm2d(num_features = n_spatial_filters)\n",
        "\n",
        "        self.n_dense_features = n_spatial_filters*(1 + ((input_shape[1] - 25 + 1) - 75) // 15)\n",
        "        self.dense = nn.Linear(self.n_dense_features, n_classes)\n",
        "        self.elu = nn.ELU()\n",
        "        #self.dropout = nn.Dropout()\n",
        "        return\n",
        "    \n",
        "    def forward(self, x):\n",
        "\n",
        "        h = x\n",
        "        h = h.view(-1, 1, self.input_shape[0], self.input_shape[1]) # view as (batch_size, 1, input_shape[0], input_shape[1])\n",
        "        h = self.temporal_convolution(h) # (batch_size, 1, H0, W0) -> (batch_size, n_temporal_filters, H0, W0 - 25 + 1)\n",
        "        if self.use_BN == True:\n",
        "          h = self.BN_temporal(h)\n",
        "        h = self.elu(h)\n",
        "\n",
        "        h = self.spatial_convolution(h) # (batch_size, n_temporal_filters, H0, W0 - 25 + 1) -> (batch_size, n_spatial_filters, 1, W0 - 25 + 1)\n",
        "        if self.use_BN == True:\n",
        "          h = self.BN_spatial(h)\n",
        "        h = self.elu(h)\n",
        "        h = torch.pow(h, 2.0)\n",
        "        h = self.average_pool(h) # (batch_size, n_spatial_filters, 1, W0 - 25 + 1) -> (batch_size, n_spatial_filters, 1, 1 + ((W0 - 25 + 1) - 75)//15)\n",
        "        h = torch.log(h) \n",
        "        h = h.view(h.shape[0], -1) # flatten the non-batch dimensions\n",
        "        h = self.dense(h) # (batch_size, self.n_dense_features) -> (batch_size, n_classes)\n",
        "        #h = self.dropout(h)\n",
        "\n",
        "        return h\n"
      ],
      "metadata": {
        "id": "MZPF1wYXhAvF"
      },
      "execution_count": null,
      "outputs": []
    },
    {
      "cell_type": "code",
      "source": [
        "# torchsummary is deprecated. Use torchinfo instead (https://github.com/TylerYep/torchinfo).\n",
        "!pip install torchinfo"
      ],
      "metadata": {
        "id": "tExSIcpBU-MW"
      },
      "execution_count": null,
      "outputs": []
    },
    {
      "cell_type": "code",
      "source": [
        "from torchinfo import summary\n",
        "# Only uses outputs of modules.\n",
        "print(summary(ShallowConvNet(use_BN = True), input_shape=(22, 600)))\n",
        "#print(summary(DeepConvNet(), input_size=(22, 1000)))"
      ],
      "metadata": {
        "id": "a-z9Wy21aNb0"
      },
      "execution_count": null,
      "outputs": []
    },
    {
      "cell_type": "markdown",
      "source": [
        "## Build Dataset"
      ],
      "metadata": {
        "id": "zcyHX_8GqMDT"
      }
    },
    {
      "cell_type": "code",
      "source": [
        "from torchvision import transforms, utils\n",
        "class AddGaussianNoise(object):\n",
        "    def __init__(self, mean=0., std=1.):\n",
        "        self.std = std\n",
        "        self.mean = mean\n",
        "        \n",
        "        \n",
        "    def __call__(self, tensor):\n",
        "        return tensor + torch.randn(tensor.size()) * self.std + self.mean\n",
        "    \n",
        "    def __repr__(self):\n",
        "        return self.__class__.__name__ + '(mean={0}, std={1})'.format(self.mean, self.std)\n",
        "\n",
        "transformations = transforms.Compose([\n",
        "                    transforms.RandomErasing(p=.99,\n",
        "                                            scale=(.02,.08),\n",
        "                                            ratio=(.025,.026),\n",
        "                                            value=0),\n",
        "                    AddGaussianNoise(mean=0., std=1.),\n",
        "                  ])"
      ],
      "metadata": {
        "id": "LOyS33gn59N5"
      },
      "execution_count": null,
      "outputs": []
    },
    {
      "cell_type": "code",
      "source": [
        "class MyDataset(torch.utils.data.Dataset):\n",
        "    def __init__(self, X, Y, transform = None):\n",
        "        self.transform = transform\n",
        "        if isinstance(X, np.ndarray):\n",
        "            self.X = torch.FloatTensor(X) # 32-bit float\n",
        "        else:\n",
        "            self.X = X\n",
        "        if isinstance(Y, np.ndarray):\n",
        "            self.Y = torch.LongTensor(Y) # integer type\n",
        "        else:\n",
        "            self.Y = Y\n",
        "        return\n",
        "    \n",
        "    def __len__(self):\n",
        "        return len(self.X)\n",
        "    \n",
        "    def __getitem__(self, index):\n",
        "      X = self.X[index]\n",
        "      y = self.Y[index]\n",
        "      if self.transform:\n",
        "        X = self.transform(X)\n",
        "      return X,y"
      ],
      "metadata": {
        "id": "HUWKFa1z5H33"
      },
      "execution_count": null,
      "outputs": []
    },
    {
      "cell_type": "code",
      "source": [
        "# Split the data into training and validation sets\n",
        "from sklearn.model_selection import train_test_split\n",
        "X_train_np, X_val_np, y_train_np, y_val_np = train_test_split(X_train_valid[:,:,0:600], y_train_valid, test_size=0.2)\n",
        "X_train = torch.FloatTensor(X_train_np).to(device)\n",
        "X_val = torch.FloatTensor(X_val_np).to(device)\n",
        "y_train = torch.LongTensor(y_train_np).to(device)\n",
        "y_val = torch.LongTensor(y_val_np).to(device)"
      ],
      "metadata": {
        "id": "dXOmTZAE3b8l"
      },
      "execution_count": null,
      "outputs": []
    },
    {
      "cell_type": "code",
      "source": [
        "batch_size = 256\n",
        "train_dataset = MyDataset(X_train, y_train, transform=None)\n",
        "train_dataloader = torch.utils.data.DataLoader(train_dataset, batch_size, shuffle=True)\n",
        "\n",
        "val_dataset = MyDataset(X_val, y_val)\n",
        "val_dataloader = torch.utils.data.DataLoader(val_dataset, batch_size, shuffle=False)"
      ],
      "metadata": {
        "id": "K2DnHPgZ72vR"
      },
      "execution_count": null,
      "outputs": []
    },
    {
      "cell_type": "code",
      "source": [
        "len(train_dataset), len(train_dataloader)"
      ],
      "metadata": {
        "id": "yjCEDq1jhk0p"
      },
      "execution_count": null,
      "outputs": []
    },
    {
      "cell_type": "markdown",
      "source": [
        "Train a Model"
      ],
      "metadata": {
        "id": "kjuBMtpI94R5"
      }
    },
    {
      "cell_type": "code",
      "source": [
        "# choose which model to use\n",
        "model = ShallowConvNet(input_shape=(22, 600),use_BN = True).to(device)\n",
        "#model = DeepConvNet().to(device)"
      ],
      "metadata": {
        "id": "sCIc5i0Ycx7o"
      },
      "execution_count": null,
      "outputs": []
    },
    {
      "cell_type": "code",
      "source": [
        "import tqdm \n",
        "torch.manual_seed(12345) \n",
        "random.seed(12345) \n",
        "np.random.seed(12345) \n",
        "\n",
        "optimizer = torch.optim.Adam(model.parameters(), lr=0.0005, weight_decay = 0.05)\n",
        "celoss = nn.CrossEntropyLoss()\n",
        "\n",
        "loss_hist = []\n",
        "val_loss_hist = []\n",
        "acc_hist = []\n",
        "val_acc_hist = [0]"
      ],
      "metadata": {
        "id": "eTYDMTGR9_eg"
      },
      "execution_count": null,
      "outputs": []
    },
    {
      "cell_type": "code",
      "source": [
        "num_epochs = 50\n",
        "\n",
        "pbar = tqdm.tqdm(\n",
        "    range(num_epochs), position=0, leave=True,\n",
        "    bar_format='{l_bar}{bar:30}{r_bar}',\n",
        ")\n",
        "for epoch in pbar:\n",
        "    model.train() \n",
        "    for batch in train_dataloader:\n",
        "        optimizer.zero_grad() \n",
        "        x, y = batch\n",
        "\n",
        "        out = model(x) \n",
        "        loss = celoss(out, y) \n",
        "\n",
        "        loss.backward() \n",
        "        optimizer.step() \n",
        "        loss_hist.append(loss.item())\n",
        "    \n",
        "    model.eval() \n",
        "    ns = 0 # number of samples\n",
        "    nc = 0 # number of correct outputs\n",
        "    with torch.no_grad():\n",
        "        for batch in train_dataloader:\n",
        "            x, y = batch\n",
        "            out = model(x)\n",
        "            ns += len(y)\n",
        "            nc += (out.max(1)[1] == y).detach().cpu().numpy().sum()\n",
        "    acc_hist.append(nc/ns)\n",
        "\n",
        "    ns = 0 \n",
        "    nc = 0 \n",
        "    with torch.no_grad():\n",
        "        for batch in val_dataloader:\n",
        "            x, y = batch\n",
        "            out = model(x)\n",
        "            loss = celoss(out, y)\n",
        "            val_loss_hist.append(loss.item())\n",
        "            ns += len(y)\n",
        "            nc += (out.max(1)[1] == y).detach().cpu().numpy().sum()\n",
        "    val_acc = nc/ns\n",
        "    if val_acc > max(val_acc_hist):\n",
        "      torch.save(model.state_dict(), 'train_best33.pt')\n",
        "    val_acc_hist.append(nc/ns)\n",
        "    \n",
        "    pbar.set_postfix({'acc': acc_hist[-1], 'val_acc': val_acc_hist[-1]})"
      ],
      "metadata": {
        "id": "5--1s2ZxYfCf"
      },
      "execution_count": null,
      "outputs": []
    },
    {
      "cell_type": "code",
      "source": [
        "print(val_acc_hist[-1])"
      ],
      "metadata": {
        "id": "suHzQl144gob"
      },
      "execution_count": null,
      "outputs": []
    },
    {
      "cell_type": "code",
      "source": [
        "plt.figure(dpi=100)\n",
        "#plt.subplot(1,2,1)\n",
        "plt.subplots_adjust(wspace=1)\n",
        "plt.plot(loss_hist, label='training')\n",
        "plt.yscale('log')\n",
        "plt.ylabel('loss')\n",
        "plt.legend(loc='lower left')\n",
        "plt.xlabel('step (training)')\n",
        "plt.twiny()\n",
        "plt.plot(val_loss_hist, 'r', label='validation')\n",
        "plt.xlabel('step (validation)')\n",
        "plt.legend(loc='upper left')\n",
        "\n",
        "\n",
        "# plt.subplot(1,2,2)\n",
        "# plt.subplots_adjust(wspace=1)\n",
        "# plt.plot(acc_hist, label='training')\n",
        "# plt.ylabel('acc')\n",
        "# plt.legend(loc='lower left')\n",
        "# plt.xlabel('step (training)')\n",
        "# plt.twiny()\n",
        "# plt.plot(val_acc_hist, 'r', label='validation')\n",
        "# plt.xlabel('step (validation)')\n",
        "# plt.legend(loc='upper left')\n",
        "# plt.grid"
      ],
      "metadata": {
        "id": "VePreI2fcvNT"
      },
      "execution_count": null,
      "outputs": []
    },
    {
      "cell_type": "code",
      "source": [
        "#Test\n",
        "X_test = torch.FloatTensor(X_test[:,:,0:600]).to(device)\n",
        "y_test = torch.LongTensor(y_test).to(device)\n",
        "Test_dataset = MyDataset(X_test,y_test)\n",
        "Test_dataloader = torch.utils.data.DataLoader(Test_dataset, batch_size, shuffle=False)"
      ],
      "metadata": {
        "id": "blj24LmX_1p6"
      },
      "execution_count": null,
      "outputs": []
    },
    {
      "cell_type": "code",
      "source": [
        "test_loss_hist = []\n",
        "test_acc_hist = []\n",
        "ns = 0\n",
        "nc = 0\n",
        "model.eval()\n",
        "with torch.no_grad():\n",
        "    for batch in Test_dataloader:\n",
        "        x, y = batch\n",
        "        out = model(x)\n",
        "        loss = celoss(out, y)\n",
        "        test_loss_hist.append(loss.item())\n",
        "        ns += len(y)\n",
        "        nc += (out.max(1)[1] == y).detach().cpu().numpy().sum()\n",
        "test_acc_hist.append(nc/ns)\n",
        "print('Test ACC:',test_acc_hist[-1])"
      ],
      "metadata": {
        "id": "XJ4px__IBm5V"
      },
      "execution_count": null,
      "outputs": []
    },
    {
      "cell_type": "markdown",
      "source": [
        "## Save the model"
      ],
      "metadata": {
        "id": "uS12XlHoShFA"
      }
    },
    {
      "cell_type": "code",
      "source": [
        "\n",
        "checkpoint = {\n",
        "    'model': model.state_dict(),\n",
        "    'optimizer': optimizer.state_dict(),\n",
        "    'loss_hist': loss_hist,\n",
        "    'acc_hist': acc_hist,\n",
        "    'val_loss_hist': val_loss_hist,\n",
        "    'val_acc_hist': val_acc_hist,\n",
        "}\n",
        "torch.save(checkpoint, 'shallowconvnet33_checkpoint.pt')\n"
      ],
      "metadata": {
        "id": "LHMrZtAGDRkp"
      },
      "execution_count": null,
      "outputs": []
    }
  ]
}