{
  "cells": [
    {
      "cell_type": "code",
      "execution_count": null,
      "metadata": {
        "id": "Koqa3G7MnGx2"
      },
      "outputs": [],
      "source": [
        "import sys\n",
        "print(f'Using python version {sys.version}') # get python version"
      ]
    },
    {
      "cell_type": "code",
      "execution_count": null,
      "metadata": {
        "id": "6bGAej-ncX5T"
      },
      "outputs": [],
      "source": [
        "from google.colab import drive\n",
        "drive.mount('/content/drive')\n",
        "%cd '/content/drive/MyDrive/247_project_data'"
      ]
    },
    {
      "cell_type": "code",
      "execution_count": null,
      "metadata": {
        "id": "llwcRI7Ywekx"
      },
      "outputs": [],
      "source": [
        "import numpy as np\n",
        "import matplotlib.pyplot as plt\n",
        "import random\n",
        "\n",
        "import torch\n",
        "import torch.nn as nn\n",
        "import torch.nn.functional as F\n",
        "\n",
        "print(f'Using pytorch version {torch.__version__}')"
      ]
    },
    {
      "cell_type": "code",
      "execution_count": null,
      "metadata": {
        "id": "Jf613vO44RZj"
      },
      "outputs": [],
      "source": [
        "print(torch.cuda.is_available())\n",
        "device_id = 0 if torch.cuda.is_available() else 'cpu' # Equivalent to device_id = 'cuda:0'\n",
        "device = torch.device(device_id) # use these semantics to specify a specific device. "
      ]
    },
    {
      "cell_type": "markdown",
      "metadata": {
        "id": "o-Qw14P3xWQG"
      },
      "source": [
        "## Prepare the data"
      ]
    },
    {
      "cell_type": "code",
      "execution_count": null,
      "metadata": {
        "id": "61umg_9yxgoc"
      },
      "outputs": [],
      "source": [
        "X_test = np.load(\"X_test.npy\")\n",
        "y_test = np.load(\"y_test.npy\")\n",
        "person_train_valid = np.load(\"person_train_valid.npy\")\n",
        "X_train_valid = np.load(\"X_train_valid.npy\")\n",
        "y_train_valid = np.load(\"y_train_valid.npy\")\n",
        "person_test = np.load(\"person_test.npy\")\n",
        "\n",
        "print ('Training/Valid data shape: {}'.format(X_train_valid.shape))\n",
        "print ('Test data shape: {}'.format(X_test.shape))\n",
        "print ('Training/Valid target shape: {}'.format(y_train_valid.shape))\n",
        "print ('Test target shape: {}'.format(y_test.shape))\n",
        "print ('Person train/valid shape: {}'.format(person_train_valid.shape))\n",
        "print ('Person test shape: {}'.format(person_test.shape))"
      ]
    },
    {
      "cell_type": "code",
      "execution_count": null,
      "metadata": {
        "id": "64wrNOp5D3Ox"
      },
      "outputs": [],
      "source": [
        "X_train_valid[0]"
      ]
    },
    {
      "cell_type": "code",
      "execution_count": null,
      "metadata": {
        "id": "ckbx8Soz0E8c"
      },
      "outputs": [],
      "source": [
        "# Convert to 0-4 labeling and integer type (integers needed for categorical labels)\n",
        "y_train_valid = (y_train_valid - np.min(y_train_valid)).astype('int')\n",
        "y_test = (y_test - np.min(y_test)).astype('int')"
      ]
    },
    {
      "cell_type": "markdown",
      "metadata": {
        "id": "5JBV6Soy5k88"
      },
      "source": [
        "## Build the CNN"
      ]
    },
    {
      "cell_type": "code",
      "execution_count": null,
      "metadata": {
        "id": "MZPF1wYXhAvF"
      },
      "outputs": [],
      "source": [
        "class ShallowConvNet(nn.Module):\n",
        "    def __init__(self, input_shape=(22, 1000), n_temporal_filters=40, n_spatial_filters=40, n_classes=4, use_BN = False):\n",
        "        super().__init__()\n",
        "        \n",
        "        self.input_shape = input_shape\n",
        "        self.n_temporal_filters = n_temporal_filters\n",
        "        self.n_spatial_filters = n_spatial_filters\n",
        "        self.n_classes = n_classes\n",
        "        self.use_BN = use_BN\n",
        "\n",
        "        self.temporal_convolution = nn.Conv2d(1, n_temporal_filters, (1, 25))\n",
        "        self.spatial_convolution = nn.Conv2d(n_temporal_filters, n_spatial_filters, (input_shape[0], 1))\n",
        "        self.average_pool = nn.AvgPool2d((1, 75), stride=(1, 15))\n",
        "        self.BN_temporal = nn.BatchNorm2d(num_features = n_temporal_filters)\n",
        "        self.BN_spatial = nn.BatchNorm2d(num_features = n_spatial_filters)\n",
        "\n",
        "        #self.n_dense_features = n_spatial_filters*(1 + ((input_shape[1] - 25 + 1) - 75) // 15)\n",
        "        self.dense = nn.LazyLinear(self.n_classes)\n",
        "        self.elu = nn.ELU()\n",
        "        self.dropout = nn.Dropout()\n",
        "        return\n",
        "    \n",
        "    def forward(self, x):\n",
        "        # x has shape (batch_size, input_shape[0], input_shape[1])\n",
        "        # Let H0 = input_shape[0], H1 = input_shape[1]\n",
        "        h = x\n",
        "\n",
        "        # note that h.view(-1, 1, h.shape[1], h.shape[2]) works normally but does not work with torchinfo\n",
        "        # this is because the torchinfo input has a weird shape\n",
        "        h = h.view(-1, 1, self.input_shape[0], self.input_shape[1]) # view as (batch_size, 1, input_shape[0], input_shape[1])\n",
        "        # Sometimes, view doesn't work and you have to use reshape. This is because of how tensors are stored in memory.\n",
        "\n",
        "        # 2d convolution takes inputs of shape (batch_size, num_channels, H, W)\n",
        "        h = self.temporal_convolution(h) # (batch_size, 1, H0, W0) -> (batch_size, n_temporal_filters, H0, W0 - 25 + 1)\n",
        "        if self.use_BN == True:\n",
        "          h = self.BN_temporal(h)\n",
        "        h = self.elu(h)\n",
        "\n",
        "        h = self.spatial_convolution(h) # (batch_size, n_temporal_filters, H0, W0 - 25 + 1) -> (batch_size, n_spatial_filters, 1, W0 - 25 + 1)\n",
        "        if self.use_BN == True:\n",
        "          h = self.BN_spatial(h)\n",
        "        h = self.elu(h)\n",
        "\n",
        "        h = torch.pow(h, 2.0) # square\n",
        "\n",
        "        h = self.average_pool(h) # (batch_size, n_spatial_filters, 1, W0 - 25 + 1) -> (batch_size, n_spatial_filters, 1, 1 + ((W0 - 25 + 1) - 75)//15)\n",
        "\n",
        "        h = torch.log(h) # (natural) log\n",
        "\n",
        "        h = h.view(h.shape[0], -1) # flatten the non-batch dimensions\n",
        "        h = self.dense(h) # (batch_size, self.n_dense_features) -> (batch_size, n_classes)\n",
        "        #h = self.dropout(h)\n",
        "\n",
        "        return h\n"
      ]
    },
    {
      "cell_type": "code",
      "execution_count": null,
      "metadata": {
        "id": "tExSIcpBU-MW"
      },
      "outputs": [],
      "source": [
        "# torchsummary is deprecated. Use torchinfo instead (https://github.com/TylerYep/torchinfo).\n",
        "!pip install torchinfo"
      ]
    },
    {
      "cell_type": "code",
      "execution_count": null,
      "metadata": {
        "id": "a-z9Wy21aNb0"
      },
      "outputs": [],
      "source": [
        "from torchinfo import summary\n",
        "# Only uses outputs of modules.\n",
        "print(summary(ShallowConvNet(use_BN = True), input_size=(22, 1000)))\n",
        "#print(summary(DeepConvNet(), input_size=(22, 1000)))"
      ]
    },
    {
      "cell_type": "markdown",
      "metadata": {
        "id": "zcyHX_8GqMDT"
      },
      "source": [
        "## Build Dataset"
      ]
    },
    {
      "cell_type": "code",
      "execution_count": null,
      "metadata": {
        "id": "HUWKFa1z5H33"
      },
      "outputs": [],
      "source": [
        "class MyDataset(torch.utils.data.Dataset):\n",
        "    def __init__(self, X, Y):\n",
        "        if isinstance(X, np.ndarray):\n",
        "            self.X = torch.FloatTensor(X) # 32-bit float\n",
        "        else:\n",
        "            self.X = X\n",
        "        if isinstance(Y, np.ndarray):\n",
        "            self.Y = torch.LongTensor(Y) # integer type\n",
        "        else:\n",
        "            self.Y = Y\n",
        "        return\n",
        "    \n",
        "    def __len__(self):\n",
        "        return len(self.X)\n",
        "    \n",
        "    def __getitem__(self, index):\n",
        "        return self.X[index], self.Y[index]"
      ]
    },
    {
      "cell_type": "code",
      "execution_count": null,
      "metadata": {
        "id": "dXOmTZAE3b8l"
      },
      "outputs": [],
      "source": [
        "# Split the data into training and validation sets\n",
        "from sklearn.model_selection import train_test_split\n",
        "X_train_np, X_val_np, y_train_np, y_val_np = train_test_split(X_train_valid, y_train_valid, test_size=0.2)\n",
        "X_train = torch.FloatTensor(X_train_np).to(device)\n",
        "X_val = torch.FloatTensor(X_val_np).to(device)\n",
        "y_train = torch.LongTensor(y_train_np).to(device)\n",
        "y_val = torch.LongTensor(y_val_np).to(device)\n",
        "X_test = torch.FloatTensor(X_test).to(device)\n",
        "y_test = torch.LongTensor(y_test).to(device)\n"
      ]
    },
    {
      "cell_type": "code",
      "source": [
        "X_train_200 = X_train[:,:,:200]\n",
        "X_train_200.shape"
      ],
      "metadata": {
        "id": "5aUlSVfQnrml"
      },
      "execution_count": null,
      "outputs": []
    },
    {
      "cell_type": "code",
      "source": [
        "index = 0\n",
        "X_train_valid[:,:,index:index+200].shape"
      ],
      "metadata": {
        "id": "8_Knurpq3fr3"
      },
      "execution_count": null,
      "outputs": []
    },
    {
      "cell_type": "code",
      "source": [
        "import random\n",
        "batch_size = 256\n",
        "Train_dataloaders = []\n",
        "Val_dataloaders = []\n",
        "Test_dataloaders = []\n",
        "time_duration = [100*(i+1) for i in range(10)]\n",
        "time_len = X_train_valid.shape[2]\n",
        "for td in time_duration:\n",
        "  #index = random.randint(0,time_len-td)\n",
        "  index = 0\n",
        "  train_dataset = MyDataset(X_train[:,:,index:index+td], y_train)\n",
        "  train_dataloader = torch.utils.data.DataLoader(train_dataset, batch_size, shuffle=True)\n",
        "  Train_dataloaders.append(train_dataloader)\n",
        "\n",
        "  val_dataset = MyDataset(X_val[:,:,index:index+td], y_val)\n",
        "  val_dataloader = torch.utils.data.DataLoader(val_dataset, batch_size, shuffle=False)\n",
        "  Val_dataloaders.append(val_dataloader)\n",
        "\n",
        "  Test_dataset = MyDataset(X_test[:,:,index:index+td],y_test)\n",
        "  Test_dataloader = torch.utils.data.DataLoader(Test_dataset, batch_size, shuffle=False)\n",
        "  Test_dataloaders.append(Test_dataloader)\n",
        "\n"
      ],
      "metadata": {
        "id": "P9MgtlfTqHGP"
      },
      "execution_count": null,
      "outputs": []
    },
    {
      "cell_type": "markdown",
      "metadata": {
        "id": "kjuBMtpI94R5"
      },
      "source": [
        "Train a Model"
      ]
    },
    {
      "cell_type": "code",
      "execution_count": null,
      "metadata": {
        "id": "VePreI2fcvNT"
      },
      "outputs": [],
      "source": [
        "def plot_train(loss_hist,val_loss_hist,acc_hist,val_acc_hist):\n",
        "  plt.figure(dpi=100)\n",
        "  plt.subplot(1,2,1)\n",
        "  plt.subplots_adjust(wspace=1)\n",
        "  plt.plot(loss_hist, label='training')\n",
        "  plt.yscale('log')\n",
        "  plt.ylabel('loss')\n",
        "  plt.legend(loc='lower left')\n",
        "  plt.xlabel('step (training)')\n",
        "  plt.twiny()\n",
        "  plt.plot(val_loss_hist, 'r', label='validation')\n",
        "  plt.xlabel('step (validation)')\n",
        "  plt.legend(loc='upper left')\n",
        "\n",
        "  plt.subplot(1,2,2)\n",
        "  plt.subplots_adjust(wspace=1)\n",
        "  plt.plot(acc_hist, label='training')\n",
        "  plt.ylabel('acc')\n",
        "  plt.legend(loc='lower left')\n",
        "  plt.xlabel('step (training)')\n",
        "  plt.twiny()\n",
        "  plt.plot(val_acc_hist, 'r', label='validation')\n",
        "  plt.xlabel('step (validation)')\n",
        "  plt.legend(loc='upper left')"
      ]
    },
    {
      "cell_type": "code",
      "execution_count": null,
      "metadata": {
        "id": "eTYDMTGR9_eg"
      },
      "outputs": [],
      "source": [
        "import tqdm # for progress bar\n",
        "# Set the random seeds.\n",
        "# Sometimes some operations are not deterministic.\n",
        "# See https://pytorch.org/docs/stable/notes/randomness.html\n",
        "#   and https://pytorch.org/docs/stable/generated/torch.use_deterministic_algorithms.html\n",
        "torch.manual_seed(12345) # set the random seed for pytorch\n",
        "random.seed(12345) # just in case\n",
        "np.random.seed(12345) # just in case\n",
        "\n",
        "def train_CNN(td,train_dataloader,val_dataloader,test_dataloader, learning_rate = 0.0005, weight_decay = 0.05, num_epochs = 50, use_BN = True):\n",
        "  input_size = (22,td)\n",
        "  model = ShallowConvNet(input_shape=input_size,use_BN = use_BN).to(device)\n",
        "  optimizer = torch.optim.Adam(model.parameters(), lr=learning_rate, weight_decay = weight_decay)\n",
        "  celoss = nn.CrossEntropyLoss()\n",
        "  loss_hist = []\n",
        "  val_loss_hist = []\n",
        "  acc_hist = []\n",
        "  val_acc_hist = []\n",
        "  num_epochs = num_epochs\n",
        "\n",
        "  # progress bar\n",
        "  pbar = tqdm.tqdm(\n",
        "      range(num_epochs), position=0, leave=True,\n",
        "      bar_format='{l_bar}{bar:30}{r_bar}',\n",
        "  )\n",
        "  for epoch in pbar:\n",
        "      model.train() # set model to training mode.\n",
        "      for batch in train_dataloader:\n",
        "          optimizer.zero_grad() # clear gradients of parameters that optimizer is optimizing\n",
        "          x, y = batch\n",
        "\n",
        "          # x = x.to(device) # necessary if X is not on the same device as model\n",
        "          # y = y.to(device)\n",
        "\n",
        "          out = model(x) # shape (batch_size, n_classes)\n",
        "          loss = celoss(out, y) # calculate the cross entropy loss\n",
        "\n",
        "          loss.backward() # backpropagate\n",
        "          optimizer.step() # perform optimization step\n",
        "\n",
        "          # IMPORTANT: DO NOT store 'loss' by itself, since it references its entire computational graph.\n",
        "          # Otherwise you will run out of memory.\n",
        "          # You MUST use .item() to convert to a scalar or call .detach().\n",
        "          loss_hist.append(loss.item())\n",
        "      \n",
        "      model.eval() # set model to evaluation mode. Relevant for dropout, batchnorm, layernorm, etc.\n",
        "      # calculate accuracy for training and validation sets\n",
        "      ns = 0 # number of samples\n",
        "      nc = 0 # number of correct outputs\n",
        "      with torch.no_grad():\n",
        "          for batch in train_dataloader:\n",
        "              x, y = batch\n",
        "              out = model(x)\n",
        "              ns += len(y)\n",
        "              nc += (out.max(1)[1] == y).detach().cpu().numpy().sum()\n",
        "      acc_hist.append(nc/ns)\n",
        "\n",
        "      ns = 0 # number of samples\n",
        "      nc = 0 # number of correct outputs\n",
        "      with torch.no_grad():\n",
        "          for batch in val_dataloader:\n",
        "              x, y = batch\n",
        "              out = model(x)\n",
        "              loss = celoss(out, y)\n",
        "              val_loss_hist.append(loss.item())\n",
        "              ns += len(y)\n",
        "              nc += (out.max(1)[1] == y).detach().cpu().numpy().sum()\n",
        "      val_acc_hist.append(nc/ns)\n",
        "\n",
        "\n",
        "      # update progress bar postfix\n",
        "      pbar.set_postfix({'acc': acc_hist[-1], 'val_acc': val_acc_hist[-1]})\n",
        "\n",
        "  test_loss_hist = []\n",
        "  test_acc_hist = []\n",
        "  ns = 0\n",
        "  nc = 0\n",
        "  model.eval()\n",
        "  with torch.no_grad():\n",
        "      for batch in test_dataloader:\n",
        "          x, y = batch\n",
        "          out = model(x)\n",
        "          loss = celoss(out, y)\n",
        "          test_loss_hist.append(loss.item())\n",
        "          ns += len(y)\n",
        "          nc += (out.max(1)[1] == y).detach().cpu().numpy().sum()\n",
        "  test_acc_hist.append(nc/ns)\n",
        "  print('Test ACC:',test_acc_hist[-1])\n",
        "  plot_train(loss_hist,val_loss_hist,acc_hist,val_acc_hist)\n",
        "      \n",
        "  return   loss_hist, val_loss_hist, test_loss_hist, acc_hist, val_acc_hist, test_acc_hist"
      ]
    },
    {
      "cell_type": "code",
      "source": [
        "loss_hists = []\n",
        "val_loss_hists = [] \n",
        "test_loss_hists = []\n",
        "acc_hists = []\n",
        "val_acc_hists = [] \n",
        "test_acc_hists = []\n",
        "for index,td in enumerate(time_duration):\n",
        "  loss_hist, val_loss_hist, test_loss_hist, acc_hist, val_acc_hist, test_acc_hist = train_CNN(td,Train_dataloaders[index],Val_dataloaders[index],Test_dataloaders[index])\n",
        "  loss_hists.append(loss_hist)\n",
        "  val_loss_hists.append(val_loss_hist)\n",
        "  test_loss_hists.append(test_loss_hist)\n",
        "  acc_hists.append(acc_hist)\n",
        "  val_acc_hists.append(val_acc_hist)\n",
        "  test_acc_hists.append(test_acc_hist)\n"
      ],
      "metadata": {
        "id": "zU_sJQt6zie3"
      },
      "execution_count": null,
      "outputs": []
    },
    {
      "cell_type": "code",
      "source": [
        "plt.plot(time_duration, test_acc_hists, label='test')\n",
        "plt.title('Test Accuracy on different Time Periods')\n",
        "plt.xticks(range(100,1100,100))\n",
        "plt.ylabel('Test Acc')\n",
        "plt.legend(loc='upper left')\n",
        "plt.xlabel('Time')\n",
        "plt.grid()\n"
      ],
      "metadata": {
        "id": "e05sBff60s4k"
      },
      "execution_count": null,
      "outputs": []
    },
    {
      "cell_type": "markdown",
      "metadata": {
        "id": "uS12XlHoShFA"
      },
      "source": [
        "## Save the model"
      ]
    },
    {
      "cell_type": "code",
      "execution_count": null,
      "metadata": {
        "id": "LHMrZtAGDRkp"
      },
      "outputs": [],
      "source": [
        "# # Best to use .pt for file extensions\n",
        "# # I used to think .pth was used, but it turns out it can have potential conflicts with python\n",
        "# #   (See https://stackoverflow.com/questions/59095824/what-is-the-difference-between-pt-pth-and-pwf-extentions-in-pytorch)\n",
        "\n",
        "# # Save only the model weights\n",
        "# #torch.save(model.state_dict(), 'shallowconvnet_weightsonly.pt')\n",
        "\n",
        "# # Save an entire checkpoint\n",
        "# checkpoint = {\n",
        "#     'model': model.state_dict(),\n",
        "#     'optimizer': optimizer.state_dict(),\n",
        "#     'loss_hist': loss_hist,\n",
        "#     'acc_hist': acc_hist,\n",
        "#     'val_loss_hist': val_loss_hist,\n",
        "#     'val_acc_hist': val_acc_hist,\n",
        "# }\n",
        "# torch.save(checkpoint, 'shallowconvnet_checkpoint.pt')\n",
        "# # chkpt = torch.load('shallowconvnet_checkpoint.pt')\n",
        "# # model.load_state_dict(chkpt['model'])"
      ]
    }
  ],
  "metadata": {
    "accelerator": "GPU",
    "colab": {
      "private_outputs": true,
      "provenance": []
    },
    "gpuClass": "standard",
    "kernelspec": {
      "display_name": "Python 3 (ipykernel)",
      "language": "python",
      "name": "python3"
    },
    "language_info": {
      "codemirror_mode": {
        "name": "ipython",
        "version": 3
      },
      "file_extension": ".py",
      "mimetype": "text/x-python",
      "name": "python",
      "nbconvert_exporter": "python",
      "pygments_lexer": "ipython3",
      "version": "3.9.7"
    }
  },
  "nbformat": 4,
  "nbformat_minor": 0
}