{
 "cells": [
  {
   "cell_type": "markdown",
   "metadata": {},
   "source": [
    "# Fully connected networks\n",
    "\n",
    "In the previous notebook, you implemented a simple two-layer neural network class.  However, this class is not modular.  If you wanted to change the number of layers, you would need to write a new loss and gradient function.  If you wanted to optimize the network with different optimizers, you'd need to write new training functions.  If you wanted to incorporate regularizations, you'd have to modify the loss and gradient function.  \n",
    "\n",
    "Instead of having to modify functions each time, for the rest of the class, we'll work in a more modular framework where we define forward and backward layers that calculate losses and gradients respectively.  Since the forward and backward layers share intermediate values that are useful for calculating both the loss and the gradient, we'll also have these function return \"caches\" which store useful intermediate values.\n",
    "\n",
    "The goal is that through this modular design, we can build different sized neural networks for various applications.\n",
    "\n",
    "In this HW #3, we'll define the basic architecture, and in HW #4, we'll build on this framework to implement different optimizers and regularizations (like BatchNorm and Dropout).\n",
    "\n"
   ]
  },
  {
   "cell_type": "markdown",
   "metadata": {},
   "source": [
    "## Modular layers\n",
    "\n",
    "This notebook will build modular layers in the following manner.  First, there will be a forward pass for a given layer with inputs (`x`) and return the output of that layer (`out`) as well as cached variables (`cache`) that will be used to calculate the gradient in the backward pass.\n",
    "\n",
    "```python\n",
    "def layer_forward(x, w):\n",
    "  \"\"\" Receive inputs x and weights w \"\"\"\n",
    "  # Do some computations ...\n",
    "  z = # ... some intermediate value\n",
    "  # Do some more computations ...\n",
    "  out = # the output\n",
    "   \n",
    "  cache = (x, w, z, out) # Values we need to compute gradients\n",
    "   \n",
    "  return out, cache\n",
    "```\n",
    "\n",
    "The backward pass will receive upstream derivatives and the `cache` object, and will return gradients with respect to the inputs and weights, like this:\n",
    "\n",
    "```python\n",
    "def layer_backward(dout, cache):\n",
    "  \"\"\"\n",
    "  Receive derivative of loss with respect to outputs and cache,\n",
    "  and compute derivative with respect to inputs.\n",
    "  \"\"\"\n",
    "  # Unpack cache values\n",
    "  x, w, z, out = cache\n",
    "  \n",
    "  # Use values in cache to compute derivatives\n",
    "  dx = # Derivative of loss with respect to x\n",
    "  dw = # Derivative of loss with respect to w\n",
    "  \n",
    "  return dx, dw\n",
    "```"
   ]
  },
  {
   "cell_type": "code",
   "execution_count": 1,
   "metadata": {},
   "outputs": [],
   "source": [
    "## Import and setups\n",
    "\n",
    "import time\n",
    "import numpy as np\n",
    "import matplotlib.pyplot as plt\n",
    "from nndl.fc_net import *\n",
    "from utils.data_utils import get_CIFAR10_data\n",
    "from utils.gradient_check import eval_numerical_gradient, eval_numerical_gradient_array\n",
    "from utils.solver import Solver\n",
    "\n",
    "%matplotlib inline\n",
    "plt.rcParams['figure.figsize'] = (10.0, 8.0) # set default size of plots\n",
    "plt.rcParams['image.interpolation'] = 'nearest'\n",
    "plt.rcParams['image.cmap'] = 'gray'\n",
    "\n",
    "# for auto-reloading external modules\n",
    "# see http://stackoverflow.com/questions/1907993/autoreload-of-modules-in-ipython\n",
    "%load_ext autoreload\n",
    "%autoreload 2\n",
    "\n",
    "def rel_error(x, y):\n",
    "  \"\"\" returns relative error \"\"\"\n",
    "  return np.max(np.abs(x - y) / (np.maximum(1e-8, np.abs(x) + np.abs(y))))"
   ]
  },
  {
   "cell_type": "code",
   "execution_count": 2,
   "metadata": {},
   "outputs": [
    {
     "name": "stdout",
     "output_type": "stream",
     "text": [
      "X_train: (49000, 3, 32, 32) \n",
      "y_train: (49000,) \n",
      "X_val: (1000, 3, 32, 32) \n",
      "y_val: (1000,) \n",
      "X_test: (1000, 3, 32, 32) \n",
      "y_test: (1000,) \n"
     ]
    }
   ],
   "source": [
    "# Load the (preprocessed) CIFAR10 data.\n",
    "data = get_CIFAR10_data()\n",
    "for k in data.keys():\n",
    "  print('{}: {} '.format(k, data[k].shape))"
   ]
  },
  {
   "cell_type": "markdown",
   "metadata": {},
   "source": [
    "## Linear layers\n",
    "\n",
    "In this section, we'll implement the forward and backward pass for the linear layers.\n",
    "\n",
    "The linear layer forward pass is the function `affine_forward` in `nndl/layers.py` and the backward pass is `affine_backward`.\n",
    "\n",
    "After you have implemented these, test your implementation by running the cell below."
   ]
  },
  {
   "cell_type": "markdown",
   "metadata": {},
   "source": [
    "### Affine layer forward pass\n",
    "\n",
    "Implement `affine_forward` and then test your code by running the following cell."
   ]
  },
  {
   "cell_type": "code",
   "execution_count": 3,
   "metadata": {},
   "outputs": [
    {
     "name": "stdout",
     "output_type": "stream",
     "text": [
      "Testing affine_forward function:\n",
      "difference: 9.7698500479884e-10\n"
     ]
    }
   ],
   "source": [
    "# Test the affine_forward function\n",
    "\n",
    "num_inputs = 2\n",
    "input_shape = (4, 5, 6)\n",
    "output_dim = 3\n",
    "\n",
    "input_size = num_inputs * np.prod(input_shape)\n",
    "weight_size = output_dim * np.prod(input_shape)\n",
    "\n",
    "x = np.linspace(-0.1, 0.5, num=input_size).reshape(num_inputs, *input_shape)\n",
    "w = np.linspace(-0.2, 0.3, num=weight_size).reshape(np.prod(input_shape), output_dim)\n",
    "b = np.linspace(-0.3, 0.1, num=output_dim)\n",
    "\n",
    "out, _ = affine_forward(x, w, b)\n",
    "correct_out = np.array([[ 1.49834967,  1.70660132,  1.91485297],\n",
    "                        [ 3.25553199,  3.5141327,   3.77273342]])\n",
    "\n",
    "# Compare your output with ours. The error should be around 1e-9.\n",
    "print('Testing affine_forward function:')\n",
    "print('difference: {}'.format(rel_error(out, correct_out)))"
   ]
  },
  {
   "cell_type": "markdown",
   "metadata": {},
   "source": [
    "### Affine layer backward pass\n",
    "\n",
    "Implement `affine_backward` and then test your code by running the following cell."
   ]
  },
  {
   "cell_type": "code",
   "execution_count": 4,
   "metadata": {},
   "outputs": [
    {
     "name": "stdout",
     "output_type": "stream",
     "text": [
      "Testing affine_backward function:\n",
      "dx error: 1.6436118008740722e-10\n",
      "dw error: 1.3996660929844023e-10\n",
      "db error: 9.995911059594335e-10\n"
     ]
    }
   ],
   "source": [
    "# Test the affine_backward function\n",
    "\n",
    "x = np.random.randn(10, 2, 3)\n",
    "w = np.random.randn(6, 5)\n",
    "b = np.random.randn(5)\n",
    "dout = np.random.randn(10, 5)\n",
    "\n",
    "dx_num = eval_numerical_gradient_array(lambda x: affine_forward(x, w, b)[0], x, dout) #（10，2，3）\n",
    "dw_num = eval_numerical_gradient_array(lambda w: affine_forward(x, w, b)[0], w, dout) #（6，5）\n",
    "db_num = eval_numerical_gradient_array(lambda b: affine_forward(x, w, b)[0], b, dout)\n",
    "\n",
    "_, cache = affine_forward(x, w, b)\n",
    "dx, dw, db = affine_backward(dout, cache)#（10，6），（3，2，5）\n",
    "\n",
    "# The error should be around 1e-10\n",
    "print('Testing affine_backward function:')\n",
    "print('dx error: {}'.format(rel_error(dx_num, dx)))\n",
    "print('dw error: {}'.format(rel_error(dw_num, dw)))\n",
    "print('db error: {}'.format(rel_error(db_num, db)))"
   ]
  },
  {
   "cell_type": "markdown",
   "metadata": {},
   "source": [
    "## Activation layers\n",
    "\n",
    "In this section you'll implement the ReLU activation."
   ]
  },
  {
   "cell_type": "markdown",
   "metadata": {},
   "source": [
    "### ReLU forward pass\n",
    "\n",
    "Implement the `relu_forward` function in `nndl/layers.py` and then test your code by running the following cell."
   ]
  },
  {
   "cell_type": "code",
   "execution_count": 5,
   "metadata": {},
   "outputs": [
    {
     "name": "stdout",
     "output_type": "stream",
     "text": [
      "Testing relu_forward function:\n",
      "difference: 4.999999798022158e-08\n"
     ]
    }
   ],
   "source": [
    "# Test the relu_forward function\n",
    "\n",
    "x = np.linspace(-0.5, 0.5, num=12).reshape(3, 4)\n",
    "\n",
    "out, _ = relu_forward(x)\n",
    "correct_out = np.array([[ 0.,          0.,          0.,          0.,        ],\n",
    "                        [ 0.,          0.,          0.04545455,  0.13636364,],\n",
    "                        [ 0.22727273,  0.31818182,  0.40909091,  0.5,       ]])\n",
    "\n",
    "# Compare your output with ours. The error should be around 1e-8\n",
    "print('Testing relu_forward function:')\n",
    "print('difference: {}'.format(rel_error(out, correct_out)))"
   ]
  },
  {
   "cell_type": "markdown",
   "metadata": {},
   "source": [
    "### ReLU backward pass\n",
    "Implement the `relu_backward` function in `nndl/layers.py` and then test your code by running the following cell."
   ]
  },
  {
   "cell_type": "code",
   "execution_count": 6,
   "metadata": {},
   "outputs": [
    {
     "name": "stdout",
     "output_type": "stream",
     "text": [
      "Testing relu_backward function:\n",
      "dx error: 3.2756166378930164e-12\n"
     ]
    }
   ],
   "source": [
    "x = np.random.randn(10, 10)\n",
    "dout = np.random.randn(*x.shape)\n",
    "\n",
    "dx_num = eval_numerical_gradient_array(lambda x: relu_forward(x)[0], x, dout)\n",
    "\n",
    "_, cache = relu_forward(x)\n",
    "dx = relu_backward(dout, cache)\n",
    "\n",
    "# The error should be around 1e-12\n",
    "print('Testing relu_backward function:')\n",
    "print('dx error: {}'.format(rel_error(dx_num, dx)))"
   ]
  },
  {
   "cell_type": "markdown",
   "metadata": {},
   "source": [
    "## Combining the affine and ReLU layers\n",
    "\n",
    "Often times, an affine layer will be followed by a ReLU layer. So let's make one that puts them together.  Layers that are combined are stored in `nndl/layer_utils.py`.  "
   ]
  },
  {
   "cell_type": "markdown",
   "metadata": {},
   "source": [
    "### Affine-ReLU layers\n",
    "We've implemented `affine_relu_forward()` and `affine_relu_backward` in ``nndl/layer_utils.py``.  Take a look at them to make sure you understand what's going on.  Then run the following cell to ensure its implemented correctly."
   ]
  },
  {
   "cell_type": "code",
   "execution_count": 7,
   "metadata": {},
   "outputs": [
    {
     "name": "stdout",
     "output_type": "stream",
     "text": [
      "Testing affine_relu_forward and affine_relu_backward:\n",
      "dx error: 9.775238246732714e-11\n",
      "dw error: 4.891769398677532e-10\n",
      "db error: 1.892891973864229e-11\n"
     ]
    }
   ],
   "source": [
    "from nndl.layer_utils import affine_relu_forward, affine_relu_backward\n",
    "\n",
    "x = np.random.randn(2, 3, 4)\n",
    "w = np.random.randn(12, 10)\n",
    "b = np.random.randn(10)\n",
    "dout = np.random.randn(2, 10)\n",
    "\n",
    "out, cache = affine_relu_forward(x, w, b)\n",
    "dx, dw, db = affine_relu_backward(dout, cache)\n",
    "\n",
    "dx_num = eval_numerical_gradient_array(lambda x: affine_relu_forward(x, w, b)[0], x, dout)\n",
    "dw_num = eval_numerical_gradient_array(lambda w: affine_relu_forward(x, w, b)[0], w, dout)\n",
    "db_num = eval_numerical_gradient_array(lambda b: affine_relu_forward(x, w, b)[0], b, dout)\n",
    "\n",
    "print('Testing affine_relu_forward and affine_relu_backward:')\n",
    "print('dx error: {}'.format(rel_error(dx_num, dx)))\n",
    "print('dw error: {}'.format(rel_error(dw_num, dw)))\n",
    "print('db error: {}'.format(rel_error(db_num, db)))"
   ]
  },
  {
   "cell_type": "markdown",
   "metadata": {},
   "source": [
    "## Softmax loss\n",
    "\n",
    "You've already implemented it, so we have written it in `layers.py`.  The following code will ensure they are working correctly."
   ]
  },
  {
   "cell_type": "code",
   "execution_count": 8,
   "metadata": {},
   "outputs": [
    {
     "name": "stdout",
     "output_type": "stream",
     "text": [
      "\n",
      "Testing softmax_loss:\n",
      "loss: 2.3024620589186098\n",
      "dx error: 7.306948234299821e-09\n"
     ]
    }
   ],
   "source": [
    "num_classes, num_inputs = 10, 50\n",
    "x = 0.001 * np.random.randn(num_inputs, num_classes)\n",
    "y = np.random.randint(num_classes, size=num_inputs)\n",
    "\n",
    "\n",
    "\n",
    "dx_num = eval_numerical_gradient(lambda x: softmax_loss(x, y)[0], x, verbose=False)\n",
    "loss, dx = softmax_loss(x, y)\n",
    "\n",
    "# Test softmax_loss function. Loss should be 2.3 and dx error should be 1e-8\n",
    "print('\\nTesting softmax_loss:')\n",
    "print('loss: {}'.format(loss))\n",
    "print('dx error: {}'.format(rel_error(dx_num, dx)))"
   ]
  },
  {
   "cell_type": "markdown",
   "metadata": {},
   "source": [
    "## Implementation of a two-layer NN\n",
    "\n",
    "In `nndl/fc_net.py`, implement the class `TwoLayerNet` which uses the layers you made here.  When you have finished, the following cell will test your implementation."
   ]
  },
  {
   "cell_type": "code",
   "execution_count": 9,
   "metadata": {},
   "outputs": [
    {
     "name": "stdout",
     "output_type": "stream",
     "text": [
      "Testing initialization ... \n",
      "Testing test-time forward pass ... \n",
      "Testing training loss (no regularization)\n",
      "Running numeric gradient check with reg = 0.0\n",
      "W1 relative error: 1.2236151215593397e-08\n",
      "W2 relative error: 3.3429539606923665e-10\n",
      "b1 relative error: 4.728894690122337e-09\n",
      "b2 relative error: 4.3291285233961314e-10\n",
      "Running numeric gradient check with reg = 0.7\n",
      "W1 relative error: 2.527915286171985e-07\n",
      "W2 relative error: 1.3678335722105113e-07\n",
      "b1 relative error: 1.564680160745132e-08\n",
      "b2 relative error: 9.089621155678095e-10\n"
     ]
    }
   ],
   "source": [
    "N, D, H, C = 3, 5, 50, 7\n",
    "X = np.random.randn(N, D)\n",
    "y = np.random.randint(C, size=N)\n",
    "\n",
    "std = 1e-2\n",
    "model = TwoLayerNet(input_dim=D, hidden_dims=H, num_classes=C, weight_scale=std)\n",
    "\n",
    "print('Testing initialization ... ')\n",
    "W1_std = abs(model.params['W1'].std() - std)\n",
    "b1 = model.params['b1']\n",
    "W2_std = abs(model.params['W2'].std() - std)\n",
    "b2 = model.params['b2']\n",
    "assert W1_std < std / 10, 'First layer weights do not seem right'\n",
    "assert np.all(b1 == 0), 'First layer biases do not seem right'\n",
    "assert W2_std < std / 10, 'Second layer weights do not seem right'\n",
    "assert np.all(b2 == 0), 'Second layer biases do not seem right'\n",
    "\n",
    "print('Testing test-time forward pass ... ')\n",
    "model.params['W1'] = np.linspace(-0.7, 0.3, num=D*H).reshape(D, H)\n",
    "model.params['b1'] = np.linspace(-0.1, 0.9, num=H)\n",
    "model.params['W2'] = np.linspace(-0.3, 0.4, num=H*C).reshape(H, C)\n",
    "model.params['b2'] = np.linspace(-0.9, 0.1, num=C)\n",
    "X = np.linspace(-5.5, 4.5, num=N*D).reshape(D, N).T\n",
    "scores = model.loss(X)\n",
    "correct_scores = np.asarray(\n",
    "  [[11.53165108,  12.2917344,   13.05181771,  13.81190102,  14.57198434, 15.33206765,  16.09215096],\n",
    "   [12.05769098,  12.74614105,  13.43459113,  14.1230412,   14.81149128, 15.49994135,  16.18839143],\n",
    "   [12.58373087,  13.20054771,  13.81736455,  14.43418138,  15.05099822, 15.66781506,  16.2846319 ]])\n",
    "scores_diff = np.abs(scores - correct_scores).sum()\n",
    "assert scores_diff < 1e-6, 'Problem with test-time forward pass'\n",
    "\n",
    "print('Testing training loss (no regularization)')\n",
    "y = np.asarray([0, 5, 1])\n",
    "loss, grads = model.loss(X, y)\n",
    "correct_loss = 3.4702243556\n",
    "assert abs(loss - correct_loss) < 1e-10, 'Problem with training-time loss'\n",
    "\n",
    "model.reg = 1.0\n",
    "loss, grads = model.loss(X, y)\n",
    "correct_loss = 26.5948426952\n",
    "assert abs(loss - correct_loss) < 1e-10, 'Problem with regularization loss'\n",
    "\n",
    "for reg in [0.0, 0.7]:\n",
    "  print('Running numeric gradient check with reg = {}'.format(reg))\n",
    "  model.reg = reg\n",
    "  loss, grads = model.loss(X, y)\n",
    "\n",
    "  for name in sorted(grads):\n",
    "    f = lambda _: model.loss(X, y)[0]\n",
    "    grad_num = eval_numerical_gradient(f, model.params[name], verbose=False)\n",
    "    print('{} relative error: {}'.format(name, rel_error(grad_num, grads[name])))"
   ]
  },
  {
   "cell_type": "markdown",
   "metadata": {},
   "source": [
    "## Solver \n",
    "\n",
    "We will now use the utils Solver class to train these networks.  Familiarize yourself with the API in `utils/solver.py`.  After you have done so, declare an instance of a TwoLayerNet with 200 units and then train it with the Solver.  Choose parameters so that your validation accuracy is at least 50%."
   ]
  },
  {
   "cell_type": "code",
   "execution_count": 16,
   "metadata": {
    "scrolled": false
   },
   "outputs": [
    {
     "name": "stdout",
     "output_type": "stream",
     "text": [
      "(Iteration 1 / 9800) loss: 5.849945\n",
      "(Epoch 0 / 20) train acc: 0.151000; val_acc: 0.135000\n",
      "(Iteration 101 / 9800) loss: 1.763481\n",
      "(Iteration 201 / 9800) loss: 2.043033\n",
      "(Iteration 301 / 9800) loss: 1.875152\n",
      "(Iteration 401 / 9800) loss: 1.739330\n",
      "(Epoch 1 / 20) train acc: 0.356000; val_acc: 0.344000\n",
      "(Iteration 501 / 9800) loss: 1.781260\n",
      "(Iteration 601 / 9800) loss: 1.662955\n",
      "(Iteration 701 / 9800) loss: 1.382662\n",
      "(Iteration 801 / 9800) loss: 1.390361\n",
      "(Iteration 901 / 9800) loss: 1.758789\n",
      "(Epoch 2 / 20) train acc: 0.448000; val_acc: 0.445000\n",
      "(Iteration 1001 / 9800) loss: 1.612982\n",
      "(Iteration 1101 / 9800) loss: 1.781912\n",
      "(Iteration 1201 / 9800) loss: 1.545630\n",
      "(Iteration 1301 / 9800) loss: 1.520418\n",
      "(Iteration 1401 / 9800) loss: 1.439629\n",
      "(Epoch 3 / 20) train acc: 0.504000; val_acc: 0.456000\n",
      "(Iteration 1501 / 9800) loss: 1.514737\n",
      "(Iteration 1601 / 9800) loss: 1.302755\n",
      "(Iteration 1701 / 9800) loss: 1.356069\n",
      "(Iteration 1801 / 9800) loss: 1.511091\n",
      "(Iteration 1901 / 9800) loss: 1.603028\n",
      "(Epoch 4 / 20) train acc: 0.519000; val_acc: 0.464000\n",
      "(Iteration 2001 / 9800) loss: 1.257710\n",
      "(Iteration 2101 / 9800) loss: 1.384349\n",
      "(Iteration 2201 / 9800) loss: 1.269392\n",
      "(Iteration 2301 / 9800) loss: 1.366704\n",
      "(Iteration 2401 / 9800) loss: 1.530595\n",
      "(Epoch 5 / 20) train acc: 0.554000; val_acc: 0.486000\n",
      "(Iteration 2501 / 9800) loss: 1.114840\n",
      "(Iteration 2601 / 9800) loss: 1.315939\n",
      "(Iteration 2701 / 9800) loss: 1.093137\n",
      "(Iteration 2801 / 9800) loss: 1.159778\n",
      "(Iteration 2901 / 9800) loss: 1.230850\n",
      "(Epoch 6 / 20) train acc: 0.578000; val_acc: 0.478000\n",
      "(Iteration 3001 / 9800) loss: 1.217213\n",
      "(Iteration 3101 / 9800) loss: 1.271447\n",
      "(Iteration 3201 / 9800) loss: 1.064899\n",
      "(Iteration 3301 / 9800) loss: 0.966804\n",
      "(Iteration 3401 / 9800) loss: 1.131174\n",
      "(Epoch 7 / 20) train acc: 0.585000; val_acc: 0.492000\n",
      "(Iteration 3501 / 9800) loss: 1.072265\n",
      "(Iteration 3601 / 9800) loss: 0.949972\n",
      "(Iteration 3701 / 9800) loss: 1.191387\n",
      "(Iteration 3801 / 9800) loss: 1.143921\n",
      "(Iteration 3901 / 9800) loss: 1.115399\n",
      "(Epoch 8 / 20) train acc: 0.617000; val_acc: 0.500000\n",
      "(Iteration 4001 / 9800) loss: 1.047951\n",
      "(Iteration 4101 / 9800) loss: 1.372634\n",
      "(Iteration 4201 / 9800) loss: 1.345547\n",
      "(Iteration 4301 / 9800) loss: 1.059791\n",
      "(Iteration 4401 / 9800) loss: 1.090470\n",
      "(Epoch 9 / 20) train acc: 0.611000; val_acc: 0.499000\n",
      "(Iteration 4501 / 9800) loss: 1.134137\n",
      "(Iteration 4601 / 9800) loss: 1.151069\n",
      "(Iteration 4701 / 9800) loss: 1.233848\n",
      "(Iteration 4801 / 9800) loss: 1.029379\n",
      "(Epoch 10 / 20) train acc: 0.613000; val_acc: 0.516000\n",
      "(Iteration 4901 / 9800) loss: 1.066279\n",
      "(Iteration 5001 / 9800) loss: 0.953931\n",
      "(Iteration 5101 / 9800) loss: 1.077667\n",
      "(Iteration 5201 / 9800) loss: 0.903971\n",
      "(Iteration 5301 / 9800) loss: 0.890487\n",
      "(Epoch 11 / 20) train acc: 0.620000; val_acc: 0.515000\n",
      "(Iteration 5401 / 9800) loss: 1.080751\n",
      "(Iteration 5501 / 9800) loss: 1.043912\n",
      "(Iteration 5601 / 9800) loss: 0.900098\n",
      "(Iteration 5701 / 9800) loss: 1.069290\n",
      "(Iteration 5801 / 9800) loss: 0.944006\n",
      "(Epoch 12 / 20) train acc: 0.640000; val_acc: 0.529000\n",
      "(Iteration 5901 / 9800) loss: 1.007684\n",
      "(Iteration 6001 / 9800) loss: 0.967613\n",
      "(Iteration 6101 / 9800) loss: 0.833928\n",
      "(Iteration 6201 / 9800) loss: 1.060592\n",
      "(Iteration 6301 / 9800) loss: 1.031379\n",
      "(Epoch 13 / 20) train acc: 0.644000; val_acc: 0.526000\n",
      "(Iteration 6401 / 9800) loss: 0.986861\n",
      "(Iteration 6501 / 9800) loss: 0.857908\n",
      "(Iteration 6601 / 9800) loss: 0.772458\n",
      "(Iteration 6701 / 9800) loss: 1.145771\n",
      "(Iteration 6801 / 9800) loss: 0.997088\n",
      "(Epoch 14 / 20) train acc: 0.676000; val_acc: 0.527000\n",
      "(Iteration 6901 / 9800) loss: 0.941989\n",
      "(Iteration 7001 / 9800) loss: 1.168254\n",
      "(Iteration 7101 / 9800) loss: 0.989402\n",
      "(Iteration 7201 / 9800) loss: 0.897757\n",
      "(Iteration 7301 / 9800) loss: 0.894574\n",
      "(Epoch 15 / 20) train acc: 0.680000; val_acc: 0.517000\n",
      "(Iteration 7401 / 9800) loss: 1.069340\n",
      "(Iteration 7501 / 9800) loss: 1.189217\n",
      "(Iteration 7601 / 9800) loss: 0.865621\n",
      "(Iteration 7701 / 9800) loss: 0.891076\n",
      "(Iteration 7801 / 9800) loss: 0.788841\n",
      "(Epoch 16 / 20) train acc: 0.695000; val_acc: 0.523000\n",
      "(Iteration 7901 / 9800) loss: 1.075288\n",
      "(Iteration 8001 / 9800) loss: 1.018837\n",
      "(Iteration 8101 / 9800) loss: 0.987709\n",
      "(Iteration 8201 / 9800) loss: 0.947368\n",
      "(Iteration 8301 / 9800) loss: 0.913031\n",
      "(Epoch 17 / 20) train acc: 0.689000; val_acc: 0.525000\n",
      "(Iteration 8401 / 9800) loss: 0.818646\n",
      "(Iteration 8501 / 9800) loss: 0.815999\n",
      "(Iteration 8601 / 9800) loss: 0.881184\n",
      "(Iteration 8701 / 9800) loss: 0.798894\n",
      "(Iteration 8801 / 9800) loss: 0.991886\n",
      "(Epoch 18 / 20) train acc: 0.686000; val_acc: 0.516000\n",
      "(Iteration 8901 / 9800) loss: 1.026289\n",
      "(Iteration 9001 / 9800) loss: 0.796466\n",
      "(Iteration 9101 / 9800) loss: 0.839142\n",
      "(Iteration 9201 / 9800) loss: 1.052151\n",
      "(Iteration 9301 / 9800) loss: 0.845786\n",
      "(Epoch 19 / 20) train acc: 0.703000; val_acc: 0.525000\n",
      "(Iteration 9401 / 9800) loss: 1.050154\n",
      "(Iteration 9501 / 9800) loss: 0.949378\n",
      "(Iteration 9601 / 9800) loss: 0.918563\n",
      "(Iteration 9701 / 9800) loss: 0.985874\n",
      "(Epoch 20 / 20) train acc: 0.700000; val_acc: 0.531000\n"
     ]
    }
   ],
   "source": [
    "model = TwoLayerNet()\n",
    "solver = None\n",
    "\n",
    "# ================================================================ #\n",
    "# YOUR CODE HERE:\n",
    "#   Declare an instance of a TwoLayerNet and then train \n",
    "#   it with the Solver. Choose hyperparameters so that your validation \n",
    "#   accuracy is at least 50%.  We won't have you optimize this further\n",
    "#   since you did it in the previous notebook.\n",
    "#\n",
    "# ================================================================ #\n",
    "model = TwoLayerNet(input_dim=3072, hidden_dims=200, num_classes=10, weight_scale=std)\n",
    "solver = Solver(model, data,\n",
    "                    update_rule='sgd',\n",
    "                    optim_config={\n",
    "                      'learning_rate': 1.25e-3,\n",
    "                    },\n",
    "                    lr_decay=0.85,\n",
    "                    num_epochs=20, batch_size=100,\n",
    "                    print_every=100)\n",
    "solver.train()\n",
    "pass\n",
    "\n",
    "# ================================================================ #\n",
    "# END YOUR CODE HERE\n",
    "# ================================================================ #"
   ]
  },
  {
   "cell_type": "code",
   "execution_count": 18,
   "metadata": {},
   "outputs": [
    {
     "data": {
      "image/png": "[encoded data removed]",
      "text/plain": [
       "<Figure size 1500x1200 with 2 Axes>"
      ]
     },
     "metadata": {},
     "output_type": "display_data"
    }
   ],
   "source": [
    "# Run this cell to visualize training loss and train / val accuracy\n",
    "\n",
    "plt.subplot(2, 1, 1)\n",
    "plt.title('Training loss')\n",
    "plt.plot(solver.loss_history, 'o')\n",
    "plt.xlabel('Iteration')\n",
    "\n",
    "plt.subplot(2, 1, 2)\n",
    "plt.title('Accuracy')\n",
    "plt.plot(solver.train_acc_history, '-o', label='train')\n",
    "plt.plot(solver.val_acc_history, '-o', label='val')\n",
    "plt.plot([0.5] * len(solver.val_acc_history), 'k--')\n",
    "plt.xlabel('Epoch')\n",
    "plt.legend(loc='lower right')\n",
    "plt.gcf().set_size_inches(15, 12)\n",
    "plt.show()"
   ]
  },
  {
   "cell_type": "markdown",
   "metadata": {},
   "source": [
    "## Multilayer Neural Network\n",
    "\n",
    "Now, we implement a multi-layer neural network.\n",
    "\n",
    "Read through the `FullyConnectedNet` class in the file `nndl/fc_net.py`.\n",
    "\n",
    "Implement the initialization, the forward pass, and the backward pass.  There will be lines for batchnorm and dropout layers and caches; ignore these all for now.  That'll be in HW #4."
   ]
  },
  {
   "cell_type": "code",
   "execution_count": 23,
   "metadata": {},
   "outputs": [
    {
     "name": "stdout",
     "output_type": "stream",
     "text": [
      "Running check with reg = 0\n",
      "Initial loss: 2.3023113968234648\n",
      "W1 relative error: 8.830774372858102e-07\n",
      "W2 relative error: 5.591216969659848e-06\n",
      "W3 relative error: 2.36921381306252e-07\n",
      "b1 relative error: 7.230751808767266e-09\n",
      "b2 relative error: 9.160699571419369e-10\n",
      "b3 relative error: 1.3217962336332898e-10\n",
      "Running check with reg = 3.14\n",
      "Initial loss: 6.881717860243333\n",
      "W1 relative error: 1.0478914514119402e-08\n",
      "W2 relative error: 1.23463538540353e-08\n",
      "W3 relative error: 3.2508148302779686e-08\n",
      "b1 relative error: 1.7288694635953824e-08\n",
      "b2 relative error: 1.403710604584298e-08\n",
      "b3 relative error: 1.9666308206475248e-10\n"
     ]
    }
   ],
   "source": [
    "N, D, H1, H2, C = 2, 15, 20, 30, 10\n",
    "X = np.random.randn(N, D)\n",
    "y = np.random.randint(C, size=(N,))\n",
    "\n",
    "for reg in [0, 3.14]:\n",
    "  print('Running check with reg = {}'.format(reg))\n",
    "  model = FullyConnectedNet([H1, H2], input_dim=D, num_classes=C,\n",
    "                            reg=reg, weight_scale=5e-2, dtype=np.float64)\n",
    "\n",
    "  loss, grads = model.loss(X, y)\n",
    "  print('Initial loss: {}'.format(loss))\n",
    "\n",
    "  for name in sorted(grads):\n",
    "    f = lambda _: model.loss(X, y)[0]\n",
    "    grad_num = eval_numerical_gradient(f, model.params[name], verbose=False, h=1e-5)\n",
    "    print('{} relative error: {}'.format(name, rel_error(grad_num, grads[name])))"
   ]
  },
  {
   "cell_type": "code",
   "execution_count": 44,
   "metadata": {
    "scrolled": false
   },
   "outputs": [
    {
     "name": "stdout",
     "output_type": "stream",
     "text": [
      "(Iteration 1 / 40) loss: 2.253272\n",
      "(Epoch 0 / 20) train acc: 0.260000; val_acc: 0.117000\n",
      "(Epoch 1 / 20) train acc: 0.340000; val_acc: 0.124000\n",
      "(Epoch 2 / 20) train acc: 0.380000; val_acc: 0.146000\n",
      "(Epoch 3 / 20) train acc: 0.620000; val_acc: 0.173000\n",
      "(Epoch 4 / 20) train acc: 0.600000; val_acc: 0.153000\n",
      "(Epoch 5 / 20) train acc: 0.640000; val_acc: 0.183000\n",
      "(Iteration 11 / 40) loss: 1.048160\n",
      "(Epoch 6 / 20) train acc: 0.600000; val_acc: 0.165000\n",
      "(Epoch 7 / 20) train acc: 0.820000; val_acc: 0.188000\n",
      "(Epoch 8 / 20) train acc: 0.720000; val_acc: 0.173000\n",
      "(Epoch 9 / 20) train acc: 0.820000; val_acc: 0.145000\n",
      "(Epoch 10 / 20) train acc: 0.960000; val_acc: 0.173000\n",
      "(Iteration 21 / 40) loss: 0.447193\n",
      "(Epoch 11 / 20) train acc: 0.980000; val_acc: 0.197000\n",
      "(Epoch 12 / 20) train acc: 1.000000; val_acc: 0.204000\n",
      "(Epoch 13 / 20) train acc: 1.000000; val_acc: 0.197000\n",
      "(Epoch 14 / 20) train acc: 1.000000; val_acc: 0.191000\n",
      "(Epoch 15 / 20) train acc: 1.000000; val_acc: 0.195000\n",
      "(Iteration 31 / 40) loss: 0.030351\n",
      "(Epoch 16 / 20) train acc: 1.000000; val_acc: 0.183000\n",
      "(Epoch 17 / 20) train acc: 1.000000; val_acc: 0.198000\n",
      "(Epoch 18 / 20) train acc: 1.000000; val_acc: 0.200000\n",
      "(Epoch 19 / 20) train acc: 1.000000; val_acc: 0.189000\n",
      "(Epoch 20 / 20) train acc: 1.000000; val_acc: 0.183000\n"
     ]
    },
    {
     "data": {
      "image/png": "[encoded data removed]",
      "text/plain": [
       "<Figure size 1000x800 with 1 Axes>"
      ]
     },
     "metadata": {},
     "output_type": "display_data"
    }
   ],
   "source": [
    "# Use the three layer neural network to overfit a small dataset.\n",
    "\n",
    "num_train = 50\n",
    "small_data = {\n",
    "  'X_train': data['X_train'][:num_train],\n",
    "  'y_train': data['y_train'][:num_train],\n",
    "  'X_val': data['X_val'],\n",
    "  'y_val': data['y_val'],\n",
    "}\n",
    "\n",
    "\n",
    "#### !!!!!!\n",
    "# Play around with the weight_scale and learning_rate so that you can overfit a small dataset.\n",
    "# Your training accuracy should be 1.0 to receive full credit on this part.\n",
    "weight_scale = 1e-2\n",
    "learning_rate = 1e-2\n",
    "\n",
    "model = FullyConnectedNet([100, 100],\n",
    "              weight_scale=weight_scale, dtype=np.float64)\n",
    "solver = Solver(model, small_data,\n",
    "                print_every=10, num_epochs=20, batch_size=25,\n",
    "                update_rule='sgd',\n",
    "                optim_config={\n",
    "                  'learning_rate': learning_rate,\n",
    "                }\n",
    "         )\n",
    "solver.train()\n",
    "\n",
    "plt.plot(solver.loss_history, 'o')\n",
    "plt.title('Training loss history')\n",
    "plt.xlabel('Iteration')\n",
    "plt.ylabel('Training loss')\n",
    "plt.show()"
   ]
  }
 ],
 "metadata": {
  "kernelspec": {
   "display_name": "Python 3 (ipykernel)",
   "language": "python",
   "name": "python3"
  },
  "language_info": {
   "codemirror_mode": {
    "name": "ipython",
    "version": 3
   },
   "file_extension": ".py",
   "mimetype": "text/x-python",
   "name": "python",
   "nbconvert_exporter": "python",
   "pygments_lexer": "ipython3",
   "version": "3.9.13"
  },
  "varInspector": {
   "cols": {
    "lenName": 16,
    "lenType": 16,
    "lenVar": 40
   },
   "kernels_config": {
    "python": {
     "delete_cmd_postfix": "",
     "delete_cmd_prefix": "del ",
     "library": "var_list.py",
     "varRefreshCmd": "print(var_dic_list())"
    },
    "r": {
     "delete_cmd_postfix": ") ",
     "delete_cmd_prefix": "rm(",
     "library": "var_list.r",
     "varRefreshCmd": "cat(var_dic_list()) "
    }
   },
   "types_to_exclude": [
    "module",
    "function",
    "builtin_function_or_method",
    "instance",
    "_Feature"
   ],
   "window_display": true
  }
 },
 "nbformat": 4,
 "nbformat_minor": 2
}
