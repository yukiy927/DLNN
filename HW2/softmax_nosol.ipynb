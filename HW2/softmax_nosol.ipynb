{
 "cells": [
  {
   "cell_type": "markdown",
   "metadata": {},
   "source": [
    "## This is the softmax workbook for ECE C147/C247 Assignment #2\n",
    "\n",
    "Please follow the notebook linearly to implement a softmax classifier.\n",
    "\n",
    "Please print out the workbook entirely when completed.\n",
    "\n",
    "The goal of this workbook is to give you experience with training a softmax classifier."
   ]
  },
  {
   "cell_type": "code",
   "execution_count": 2,
   "metadata": {},
   "outputs": [],
   "source": [
    "import random\n",
    "import numpy as np\n",
    "from utils.data_utils import load_CIFAR10\n",
    "import matplotlib.pyplot as plt\n",
    "\n",
    "%matplotlib inline\n",
    "%load_ext autoreload\n",
    "%autoreload 2"
   ]
  },
  {
   "cell_type": "code",
   "execution_count": 3,
   "metadata": {
    "scrolled": true
   },
   "outputs": [
    {
     "name": "stdout",
     "output_type": "stream",
     "text": [
      "Train data shape:  (49000, 3073)\n",
      "Train labels shape:  (49000,)\n",
      "Validation data shape:  (1000, 3073)\n",
      "Validation labels shape:  (1000,)\n",
      "Test data shape:  (1000, 3073)\n",
      "Test labels shape:  (1000,)\n",
      "dev data shape:  (500, 3073)\n",
      "dev labels shape:  (500,)\n"
     ]
    }
   ],
   "source": [
    "def get_CIFAR10_data(num_training=49000, num_validation=1000, num_test=1000, num_dev=500):\n",
    "    \"\"\"\n",
    "    Load the CIFAR-10 dataset from disk and perform preprocessing to prepare\n",
    "    it for the linear classifier. These are the same steps as we used for the\n",
    "    SVM, but condensed to a single function.  \n",
    "    \"\"\"\n",
    "    # Load the raw CIFAR-10 data\n",
    "    cifar10_dir = 'D:\\\\file_yyux\\\\UCLA\\\\23W-courses\\\\C247\\\\cifar-10-batches-py' # You need to update this line\n",
    "    X_train, y_train, X_test, y_test = load_CIFAR10(cifar10_dir)\n",
    "    \n",
    "    # subsample the data\n",
    "    mask = list(range(num_training, num_training + num_validation))\n",
    "    X_val = X_train[mask]\n",
    "    y_val = y_train[mask]\n",
    "    mask = list(range(num_training))\n",
    "    X_train = X_train[mask]\n",
    "    y_train = y_train[mask]\n",
    "    mask = list(range(num_test))\n",
    "    X_test = X_test[mask]\n",
    "    y_test = y_test[mask]\n",
    "    mask = np.random.choice(num_training, num_dev, replace=False)\n",
    "    X_dev = X_train[mask]\n",
    "    y_dev = y_train[mask]\n",
    "    \n",
    "    # Preprocessing: reshape the image data into rows\n",
    "    X_train = np.reshape(X_train, (X_train.shape[0], -1))\n",
    "    X_val = np.reshape(X_val, (X_val.shape[0], -1))\n",
    "    X_test = np.reshape(X_test, (X_test.shape[0], -1))\n",
    "    X_dev = np.reshape(X_dev, (X_dev.shape[0], -1))\n",
    "    \n",
    "    # Normalize the data: subtract the mean image\n",
    "    mean_image = np.mean(X_train, axis = 0)\n",
    "    X_train -= mean_image\n",
    "    X_val -= mean_image\n",
    "    X_test -= mean_image\n",
    "    X_dev -= mean_image\n",
    "    \n",
    "    # add bias dimension and transform into columns\n",
    "    X_train = np.hstack([X_train, np.ones((X_train.shape[0], 1))])\n",
    "    X_val = np.hstack([X_val, np.ones((X_val.shape[0], 1))])\n",
    "    X_test = np.hstack([X_test, np.ones((X_test.shape[0], 1))])\n",
    "    X_dev = np.hstack([X_dev, np.ones((X_dev.shape[0], 1))])\n",
    "    \n",
    "    return X_train, y_train, X_val, y_val, X_test, y_test, X_dev, y_dev\n",
    "\n",
    "\n",
    "# Invoke the above function to get our data.\n",
    "X_train, y_train, X_val, y_val, X_test, y_test, X_dev, y_dev = get_CIFAR10_data()\n",
    "print('Train data shape: ', X_train.shape)\n",
    "print('Train labels shape: ', y_train.shape)\n",
    "print('Validation data shape: ', X_val.shape)\n",
    "print('Validation labels shape: ', y_val.shape)\n",
    "print('Test data shape: ', X_test.shape)\n",
    "print('Test labels shape: ', y_test.shape)\n",
    "print('dev data shape: ', X_dev.shape)\n",
    "print('dev labels shape: ', y_dev.shape)"
   ]
  },
  {
   "cell_type": "markdown",
   "metadata": {},
   "source": [
    "## Training a softmax classifier.\n",
    "\n",
    "The following cells will take you through building a softmax classifier.  You will implement its loss function, then subsequently train it with gradient descent.  Finally, you will choose the learning rate of gradient descent to optimize its classification performance."
   ]
  },
  {
   "cell_type": "code",
   "execution_count": 4,
   "metadata": {},
   "outputs": [],
   "source": [
    "from nndl import Softmax"
   ]
  },
  {
   "cell_type": "code",
   "execution_count": 5,
   "metadata": {},
   "outputs": [],
   "source": [
    "# Declare an instance of the Softmax class.  \n",
    "# Weights are initialized to a random value.\n",
    "# Note, to keep people's first solutions consistent, we are going to use a random seed.\n",
    "\n",
    "np.random.seed(1)\n",
    "\n",
    "num_classes = len(np.unique(y_train))\n",
    "num_features = X_train.shape[1]\n",
    "\n",
    "softmax = Softmax(dims=[num_classes, num_features])"
   ]
  },
  {
   "cell_type": "markdown",
   "metadata": {},
   "source": [
    "#### Softmax loss"
   ]
  },
  {
   "cell_type": "code",
   "execution_count": 6,
   "metadata": {},
   "outputs": [],
   "source": [
    "## Implement the loss function of the softmax using a for loop over\n",
    "#  the number of examples\n",
    "\n",
    "loss = softmax.loss(X_train, y_train)"
   ]
  },
  {
   "cell_type": "code",
   "execution_count": 7,
   "metadata": {},
   "outputs": [
    {
     "name": "stdout",
     "output_type": "stream",
     "text": [
      "2.3277607028048757\n"
     ]
    }
   ],
   "source": [
    "print(loss)"
   ]
  },
  {
   "cell_type": "markdown",
   "metadata": {},
   "source": [
    "## Question: \n",
    "\n",
    "You'll notice the loss returned by the softmax is about 2.3 (if implemented correctly).  Why does this make sense?"
   ]
  },
  {
   "cell_type": "markdown",
   "metadata": {},
   "source": [
    "## Answer:\n",
    "\n",
    "We haven't figured out the optimal parameters here."
   ]
  },
  {
   "cell_type": "markdown",
   "metadata": {},
   "source": [
    "#### Softmax gradient"
   ]
  },
  {
   "cell_type": "code",
   "execution_count": 8,
   "metadata": {
    "scrolled": false
   },
   "outputs": [
    {
     "name": "stdout",
     "output_type": "stream",
     "text": [
      "numerical: 0.598673 analytic: 0.598673, relative error: 4.963857e-08\n",
      "numerical: 0.241832 analytic: 0.241832, relative error: 3.677000e-08\n",
      "numerical: -0.894712 analytic: -0.894712, relative error: 1.918034e-08\n",
      "numerical: 0.229940 analytic: 0.229940, relative error: 4.938331e-08\n",
      "numerical: 0.748574 analytic: 0.748574, relative error: 3.954702e-08\n",
      "numerical: 0.770986 analytic: 0.770986, relative error: 9.470036e-09\n",
      "numerical: -0.919696 analytic: -0.919696, relative error: 5.389844e-08\n",
      "numerical: -0.363270 analytic: -0.363270, relative error: 8.098359e-09\n",
      "numerical: 0.326937 analytic: 0.326937, relative error: 1.728843e-08\n",
      "numerical: -3.850430 analytic: -3.850431, relative error: 2.078891e-08\n"
     ]
    }
   ],
   "source": [
    "## Calculate the gradient of the softmax loss in the Softmax class.\n",
    "# For convenience, we'll write one function that computes the loss\n",
    "#   and gradient together, softmax.loss_and_grad(X, y)\n",
    "# You may copy and paste your loss code from softmax.loss() here, and then\n",
    "#   use the appropriate intermediate values to calculate the gradient.\n",
    "\n",
    "loss, grad = softmax.loss_and_grad(X_dev,y_dev)\n",
    "\n",
    "# Compare your gradient to a gradient check we wrote. \n",
    "# You should see relative gradient errors on the order of 1e-07 or less if you implemented the gradient correctly.\n",
    "softmax.grad_check_sparse(X_dev, y_dev, grad)"
   ]
  },
  {
   "cell_type": "markdown",
   "metadata": {},
   "source": [
    "## A vectorized version of Softmax\n",
    "\n",
    "To speed things up, we will vectorize the loss and gradient calculations.  This will be helpful for stochastic gradient descent."
   ]
  },
  {
   "cell_type": "code",
   "execution_count": 9,
   "metadata": {},
   "outputs": [],
   "source": [
    "import time"
   ]
  },
  {
   "cell_type": "code",
   "execution_count": 10,
   "metadata": {},
   "outputs": [
    {
     "name": "stdout",
     "output_type": "stream",
     "text": [
      "Normal loss / grad_norm: 2.3259145019892684 / 341.43965400563695 computed in 0.02105426788330078s\n",
      "Vectorized loss / grad: 2.3259145019892657 / 341.439654005637 computed in 0.0020055770874023438s\n",
      "difference in loss / grad: 2.6645352591003757e-15 /5.1949918658072915e-14 \n"
     ]
    }
   ],
   "source": [
    "## Implement softmax.fast_loss_and_grad which calculates the loss and gradient\n",
    "#    WITHOUT using any for loops.  \n",
    "\n",
    "# Standard loss and gradient\n",
    "tic = time.time()\n",
    "loss, grad = softmax.loss_and_grad(X_dev, y_dev)\n",
    "toc = time.time()\n",
    "print('Normal loss / grad_norm: {} / {} computed in {}s'.format(loss, np.linalg.norm(grad, 'fro'), toc - tic))\n",
    "\n",
    "tic = time.time()\n",
    "loss_vectorized, grad_vectorized = softmax.fast_loss_and_grad(X_dev, y_dev)\n",
    "toc = time.time()\n",
    "print('Vectorized loss / grad: {} / {} computed in {}s'.format(loss_vectorized, np.linalg.norm(grad_vectorized, 'fro'), toc - tic))\n",
    "\n",
    "# The losses should match but your vectorized implementation should be much faster.\n",
    "print('difference in loss / grad: {} /{} '.format(loss - loss_vectorized, np.linalg.norm(grad - grad_vectorized)))\n",
    "\n",
    "# You should notice a speedup with the same output."
   ]
  },
  {
   "cell_type": "markdown",
   "metadata": {},
   "source": [
    "## Stochastic gradient descent\n",
    "\n",
    "We now implement stochastic gradient descent.  This uses the same principles of gradient descent we discussed in class, however, it calculates the gradient by only using examples from a subset of the training set (so each gradient calculation is faster)."
   ]
  },
  {
   "cell_type": "code",
   "execution_count": 11,
   "metadata": {
    "scrolled": false
   },
   "outputs": [
    {
     "name": "stdout",
     "output_type": "stream",
     "text": [
      "iteration 0 / 1500: loss 2.32404675150806\n",
      "iteration 100 / 1500: loss 2.061522973191748\n",
      "iteration 200 / 1500: loss 1.982229019429444\n",
      "iteration 300 / 1500: loss 1.9267805465258758\n",
      "iteration 400 / 1500: loss 1.9217010353302473\n",
      "iteration 500 / 1500: loss 1.890920656263819\n",
      "iteration 600 / 1500: loss 1.8771114413158583\n",
      "iteration 700 / 1500: loss 1.8711568424573894\n",
      "iteration 800 / 1500: loss 1.8356914360003804\n",
      "iteration 900 / 1500: loss 1.845429490501734\n",
      "iteration 1000 / 1500: loss 1.873091370521568\n",
      "iteration 1100 / 1500: loss 1.8423617955326128\n",
      "iteration 1200 / 1500: loss 1.818357106153725\n",
      "iteration 1300 / 1500: loss 1.8261028275903577\n",
      "iteration 1400 / 1500: loss 1.8037723054429455\n",
      "That took 44.32196044921875s\n"
     ]
    },
    {
     "data": {
      "image/png": "[encoded data removed]",
      "text/plain": [
       "<Figure size 640x480 with 1 Axes>"
      ]
     },
     "metadata": {},
     "output_type": "display_data"
    }
   ],
   "source": [
    "# Implement softmax.train() by filling in the code to extract a batch of data\n",
    "# and perform the gradient step.\n",
    "import time\n",
    "\n",
    "\n",
    "tic = time.time()\n",
    "loss_hist = softmax.train(X_train, y_train, learning_rate=1e-7,\n",
    "                      num_iters=1500, verbose=True)\n",
    "toc = time.time()\n",
    "print('That took {}s'.format(toc - tic))\n",
    "\n",
    "plt.plot(loss_hist)\n",
    "plt.xlabel('Iteration number')\n",
    "plt.ylabel('Loss value')\n",
    "plt.show()"
   ]
  },
  {
   "cell_type": "markdown",
   "metadata": {},
   "source": [
    "### Evaluate the performance of the trained softmax classifier on the validation data."
   ]
  },
  {
   "cell_type": "code",
   "execution_count": 12,
   "metadata": {},
   "outputs": [
    {
     "name": "stdout",
     "output_type": "stream",
     "text": [
      "training accuracy: 0.3816530612244898\n",
      "validation accuracy: 0.398\n"
     ]
    }
   ],
   "source": [
    "## Implement softmax.predict() and use it to compute the training and testing error.\n",
    "\n",
    "y_train_pred = softmax.predict(X_train)\n",
    "print('training accuracy: {}'.format(np.mean(np.equal(y_train,y_train_pred), )))\n",
    "y_val_pred = softmax.predict(X_val)\n",
    "print('validation accuracy: {}'.format(np.mean(np.equal(y_val, y_val_pred)), ))"
   ]
  },
  {
   "cell_type": "markdown",
   "metadata": {},
   "source": [
    "## Optimize the softmax classifier"
   ]
  },
  {
   "cell_type": "code",
   "execution_count": 13,
   "metadata": {},
   "outputs": [
    {
     "data": {
      "text/plain": [
       "2.220446049250313e-16"
      ]
     },
     "execution_count": 13,
     "metadata": {},
     "output_type": "execute_result"
    }
   ],
   "source": [
    "np.finfo(float).eps"
   ]
  },
  {
   "cell_type": "code",
   "execution_count": 14,
   "metadata": {
    "scrolled": false
   },
   "outputs": [
    {
     "name": "stdout",
     "output_type": "stream",
     "text": [
      "iteration 0 / 1500: loss 2.3766813737240655\n",
      "iteration 100 / 1500: loss 2.365463948404861\n",
      "iteration 200 / 1500: loss 2.3545622828650883\n",
      "iteration 300 / 1500: loss 2.342590960381115\n",
      "iteration 400 / 1500: loss 2.33888103045761\n",
      "iteration 500 / 1500: loss 2.324218911289491\n",
      "iteration 600 / 1500: loss 2.3205120923661102\n",
      "iteration 700 / 1500: loss 2.315644496902952\n",
      "iteration 800 / 1500: loss 2.3013654949754314\n",
      "iteration 900 / 1500: loss 2.286922961766898\n",
      "iteration 1000 / 1500: loss 2.2776902380294652\n",
      "iteration 1100 / 1500: loss 2.284785742305509\n",
      "iteration 1200 / 1500: loss 2.277286811866825\n",
      "iteration 1300 / 1500: loss 2.2704933657110242\n",
      "iteration 1400 / 1500: loss 2.2644582428121542\n",
      "iteration 0 / 1500: loss 2.361431595428404\n",
      "iteration 100 / 1500: loss 2.073994686155015\n",
      "iteration 200 / 1500: loss 2.011725556797849\n",
      "iteration 300 / 1500: loss 1.9549045659448887\n",
      "iteration 400 / 1500: loss 1.9375899683241176\n",
      "iteration 500 / 1500: loss 1.890382770402676\n",
      "iteration 600 / 1500: loss 1.8685690350530668\n",
      "iteration 700 / 1500: loss 1.870066853234823\n",
      "iteration 800 / 1500: loss 1.858935947946236\n",
      "iteration 900 / 1500: loss 1.8347427772050668\n",
      "iteration 1000 / 1500: loss 1.851378405787395\n",
      "iteration 1100 / 1500: loss 1.825317213661383\n",
      "iteration 1200 / 1500: loss 1.8136654928586178\n",
      "iteration 1300 / 1500: loss 1.814161248570777\n",
      "iteration 1400 / 1500: loss 1.7980272390370706\n",
      "iteration 0 / 1500: loss 2.3220396320347363\n",
      "iteration 100 / 1500: loss 1.8961969219237766\n",
      "iteration 200 / 1500: loss 1.8502179865495598\n",
      "iteration 300 / 1500: loss 1.800336776171614\n",
      "iteration 400 / 1500: loss 1.780133854591719\n",
      "iteration 500 / 1500: loss 1.7710161878596526\n",
      "iteration 600 / 1500: loss 1.7826795560617783\n",
      "iteration 700 / 1500: loss 1.7479794542822973\n",
      "iteration 800 / 1500: loss 1.7678570367412398\n",
      "iteration 900 / 1500: loss 1.7501173323086883\n",
      "iteration 1000 / 1500: loss 1.7367886126649683\n",
      "iteration 1100 / 1500: loss 1.7331376265917613\n",
      "iteration 1200 / 1500: loss 1.7009178945923284\n",
      "iteration 1300 / 1500: loss 1.728282887481945\n",
      "iteration 1400 / 1500: loss 1.6937149276778098\n",
      "lr 1.000000e-09 train accuracy: 0.151857 val accuracy: 0.154000\n",
      "lr 1.000000e-07 train accuracy: 0.381020 val accuracy: 0.392000\n",
      "lr 5.000000e-07 train accuracy: 0.417204 val accuracy: 0.405000\n",
      "So best learning rate: 5.000000e-07 best validation accuracy: 0.405000 with corresponding best error: 0.595000\n",
      "The test error is : 0.604000\n"
     ]
    }
   ],
   "source": [
    "# ================================================================ #\n",
    "# YOUR CODE HERE:\n",
    "#   Train the Softmax classifier with different learning rates and \n",
    "#     evaluate on the validation data.\n",
    "#   Report:\n",
    "#     - The best learning rate of the ones you tested.  \n",
    "#     - The best validation accuracy corresponding to the best validation error.\n",
    "#\n",
    "#   Select the SVM that achieved the best validation error and report\n",
    "#     its error rate on the test set.\n",
    "# ================================================================ #\n",
    "results = {}\n",
    "best_val = -1\n",
    "best_lr = None\n",
    "\n",
    "lrs = [1e-9, 1e-7, 5e-7]\n",
    "for lr in lrs:\n",
    "    loss_hist = softmax.train(X_train, y_train, learning_rate=lr,\n",
    "                                 num_iters=1500, verbose=True)\n",
    "    y_train_pred = softmax.predict(X_train)\n",
    "    train_accuracy = np.mean(y_train == y_train_pred)\n",
    "    y_val_pred = softmax.predict(X_val)\n",
    "    val_accuracy = np.mean(y_val == y_val_pred)\n",
    "    val_error = 1 - val_accuracy\n",
    "    results[(lr)] = (train_accuracy, val_accuracy)\n",
    "    if val_accuracy > best_val:\n",
    "        best_val = val_accuracy\n",
    "        best_lr = softmax\n",
    "best_error = 1 - best_val\n",
    "# Print out results.\n",
    "for lr in sorted(results):\n",
    "    train_accuracy, val_accuracy = results[(lr)]\n",
    "    print('lr %e train accuracy: %f val accuracy: %f' % (\n",
    "        lr, train_accuracy, val_accuracy))\n",
    "print('So best learning rate: %e best validation accuracy: %f with corresponding best error: %f' %(\n",
    "    lrs[2], best_val, best_error) )\n",
    "y_test_pred = softmax.predict(X_test)\n",
    "test_error = 1 - np.mean(y_test == y_test_pred)\n",
    "print(\"The test error is : %f\" % test_error)\n",
    "\n",
    "# ================================================================ #\n",
    "# END YOUR CODE HERE\n",
    "# ================================================================ #\n"
   ]
  }
 ],
 "metadata": {
  "kernelspec": {
   "display_name": "Python 3 (ipykernel)",
   "language": "python",
   "name": "python3"
  },
  "language_info": {
   "codemirror_mode": {
    "name": "ipython",
    "version": 3
   },
   "file_extension": ".py",
   "mimetype": "text/x-python",
   "name": "python",
   "nbconvert_exporter": "python",
   "pygments_lexer": "ipython3",
   "version": "3.9.13"
  }
 },
 "nbformat": 4,
 "nbformat_minor": 2
}
